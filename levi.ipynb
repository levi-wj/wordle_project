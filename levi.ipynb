{
 "cells": [
  {
   "cell_type": "code",
   "execution_count": 405,
   "metadata": {},
   "outputs": [],
   "source": [
    "import pandas as pd\n",
    "import plotly.express as px\n",
    "import numpy as np\n",
    "from xgboost import XGBRegressor\n",
    "\n",
    "from sklearn.model_selection import train_test_split\n",
    "from sklearn.multioutput import MultiOutputRegressor\n",
    "from sklearn.metrics import root_mean_squared_error\n",
    "\n",
    "from textstat import textstat # Used to get reading level\n",
    "from wordfreq import zipf_frequency # Used to get word frequency\n",
    "import nltk # Used to classify words"
   ]
  },
  {
   "cell_type": "markdown",
   "metadata": {},
   "source": [
    "#### Load Data"
   ]
  },
  {
   "cell_type": "code",
   "execution_count": 406,
   "metadata": {},
   "outputs": [
    {
     "data": {
      "text/html": [
       "<div>\n",
       "<style scoped>\n",
       "    .dataframe tbody tr th:only-of-type {\n",
       "        vertical-align: middle;\n",
       "    }\n",
       "\n",
       "    .dataframe tbody tr th {\n",
       "        vertical-align: top;\n",
       "    }\n",
       "\n",
       "    .dataframe thead th {\n",
       "        text-align: right;\n",
       "    }\n",
       "</style>\n",
       "<table border=\"1\" class=\"dataframe\">\n",
       "  <thead>\n",
       "    <tr style=\"text-align: right;\">\n",
       "      <th></th>\n",
       "      <th>Date</th>\n",
       "      <th>Contest number</th>\n",
       "      <th>Word</th>\n",
       "      <th>Number of reported results</th>\n",
       "      <th>Number in hard mode</th>\n",
       "      <th>1 try</th>\n",
       "      <th>2 tries</th>\n",
       "      <th>3 tries</th>\n",
       "      <th>4 tries</th>\n",
       "      <th>5 tries</th>\n",
       "      <th>6 tries</th>\n",
       "      <th>7 or more tries (X)</th>\n",
       "    </tr>\n",
       "  </thead>\n",
       "  <tbody>\n",
       "    <tr>\n",
       "      <th>0</th>\n",
       "      <td>12/31/2022</td>\n",
       "      <td>560</td>\n",
       "      <td>manly</td>\n",
       "      <td>20380</td>\n",
       "      <td>1899</td>\n",
       "      <td>0</td>\n",
       "      <td>2</td>\n",
       "      <td>17</td>\n",
       "      <td>37</td>\n",
       "      <td>29</td>\n",
       "      <td>12</td>\n",
       "      <td>2</td>\n",
       "    </tr>\n",
       "    <tr>\n",
       "      <th>1</th>\n",
       "      <td>12/30/2022</td>\n",
       "      <td>559</td>\n",
       "      <td>molar</td>\n",
       "      <td>21204</td>\n",
       "      <td>1973</td>\n",
       "      <td>0</td>\n",
       "      <td>4</td>\n",
       "      <td>21</td>\n",
       "      <td>38</td>\n",
       "      <td>26</td>\n",
       "      <td>9</td>\n",
       "      <td>1</td>\n",
       "    </tr>\n",
       "    <tr>\n",
       "      <th>2</th>\n",
       "      <td>12/29/2022</td>\n",
       "      <td>558</td>\n",
       "      <td>havoc</td>\n",
       "      <td>20001</td>\n",
       "      <td>1919</td>\n",
       "      <td>0</td>\n",
       "      <td>2</td>\n",
       "      <td>16</td>\n",
       "      <td>38</td>\n",
       "      <td>30</td>\n",
       "      <td>12</td>\n",
       "      <td>2</td>\n",
       "    </tr>\n",
       "    <tr>\n",
       "      <th>3</th>\n",
       "      <td>12/28/2022</td>\n",
       "      <td>557</td>\n",
       "      <td>impel</td>\n",
       "      <td>20160</td>\n",
       "      <td>1937</td>\n",
       "      <td>0</td>\n",
       "      <td>3</td>\n",
       "      <td>21</td>\n",
       "      <td>40</td>\n",
       "      <td>25</td>\n",
       "      <td>9</td>\n",
       "      <td>1</td>\n",
       "    </tr>\n",
       "    <tr>\n",
       "      <th>4</th>\n",
       "      <td>12/27/2022</td>\n",
       "      <td>556</td>\n",
       "      <td>condo</td>\n",
       "      <td>20879</td>\n",
       "      <td>2012</td>\n",
       "      <td>0</td>\n",
       "      <td>2</td>\n",
       "      <td>17</td>\n",
       "      <td>35</td>\n",
       "      <td>29</td>\n",
       "      <td>14</td>\n",
       "      <td>3</td>\n",
       "    </tr>\n",
       "  </tbody>\n",
       "</table>\n",
       "</div>"
      ],
      "text/plain": [
       "         Date  Contest number   Word  Number of reported results  \\\n",
       "0  12/31/2022             560  manly                       20380   \n",
       "1  12/30/2022             559  molar                       21204   \n",
       "2  12/29/2022             558  havoc                       20001   \n",
       "3  12/28/2022             557  impel                       20160   \n",
       "4  12/27/2022             556  condo                       20879   \n",
       "\n",
       "   Number in hard mode  1 try  2 tries  3 tries  4 tries  5 tries  6 tries  \\\n",
       "0                 1899      0        2       17       37       29       12   \n",
       "1                 1973      0        4       21       38       26        9   \n",
       "2                 1919      0        2       16       38       30       12   \n",
       "3                 1937      0        3       21       40       25        9   \n",
       "4                 2012      0        2       17       35       29       14   \n",
       "\n",
       "   7 or more tries (X)  \n",
       "0                    2  \n",
       "1                    1  \n",
       "2                    2  \n",
       "3                    1  \n",
       "4                    3  "
      ]
     },
     "execution_count": 406,
     "metadata": {},
     "output_type": "execute_result"
    }
   ],
   "source": [
    "df = pd.read_csv('Problem_C_Data_Wordle.csv', encoding='latin1');\n",
    "df.head()"
   ]
  },
  {
   "cell_type": "markdown",
   "metadata": {},
   "source": [
    "#### Fix the typo? And special characters"
   ]
  },
  {
   "cell_type": "code",
   "execution_count": 407,
   "metadata": {},
   "outputs": [
    {
     "name": "stdout",
     "output_type": "stream",
     "text": [
      "1\n",
      "1\n"
     ]
    }
   ],
   "source": [
    "# Replace the Word 'marxh' in the dataframe with 'march'\n",
    "df['Word'] = df['Word'].replace('marxh', 'march')\n",
    "df['Word'] = df['Word'].replace('naï¿½ve', 'naive')\n",
    "\n",
    "print(len(df[df['Word'] == 'march']))\n",
    "print(len(df[df['Word'] == 'naive']))"
   ]
  },
  {
   "cell_type": "markdown",
   "metadata": {},
   "source": [
    "#### Drop data that we can't use"
   ]
  },
  {
   "cell_type": "code",
   "execution_count": 408,
   "metadata": {},
   "outputs": [
    {
     "data": {
      "text/html": [
       "<div>\n",
       "<style scoped>\n",
       "    .dataframe tbody tr th:only-of-type {\n",
       "        vertical-align: middle;\n",
       "    }\n",
       "\n",
       "    .dataframe tbody tr th {\n",
       "        vertical-align: top;\n",
       "    }\n",
       "\n",
       "    .dataframe thead th {\n",
       "        text-align: right;\n",
       "    }\n",
       "</style>\n",
       "<table border=\"1\" class=\"dataframe\">\n",
       "  <thead>\n",
       "    <tr style=\"text-align: right;\">\n",
       "      <th></th>\n",
       "      <th>Date</th>\n",
       "      <th>Word</th>\n",
       "      <th>1 try</th>\n",
       "      <th>2 tries</th>\n",
       "      <th>3 tries</th>\n",
       "      <th>4 tries</th>\n",
       "      <th>5 tries</th>\n",
       "      <th>6 tries</th>\n",
       "      <th>7 or more tries (X)</th>\n",
       "    </tr>\n",
       "  </thead>\n",
       "  <tbody>\n",
       "    <tr>\n",
       "      <th>0</th>\n",
       "      <td>12/31/2022</td>\n",
       "      <td>manly</td>\n",
       "      <td>0</td>\n",
       "      <td>2</td>\n",
       "      <td>17</td>\n",
       "      <td>37</td>\n",
       "      <td>29</td>\n",
       "      <td>12</td>\n",
       "      <td>2</td>\n",
       "    </tr>\n",
       "    <tr>\n",
       "      <th>1</th>\n",
       "      <td>12/30/2022</td>\n",
       "      <td>molar</td>\n",
       "      <td>0</td>\n",
       "      <td>4</td>\n",
       "      <td>21</td>\n",
       "      <td>38</td>\n",
       "      <td>26</td>\n",
       "      <td>9</td>\n",
       "      <td>1</td>\n",
       "    </tr>\n",
       "    <tr>\n",
       "      <th>2</th>\n",
       "      <td>12/29/2022</td>\n",
       "      <td>havoc</td>\n",
       "      <td>0</td>\n",
       "      <td>2</td>\n",
       "      <td>16</td>\n",
       "      <td>38</td>\n",
       "      <td>30</td>\n",
       "      <td>12</td>\n",
       "      <td>2</td>\n",
       "    </tr>\n",
       "    <tr>\n",
       "      <th>3</th>\n",
       "      <td>12/28/2022</td>\n",
       "      <td>impel</td>\n",
       "      <td>0</td>\n",
       "      <td>3</td>\n",
       "      <td>21</td>\n",
       "      <td>40</td>\n",
       "      <td>25</td>\n",
       "      <td>9</td>\n",
       "      <td>1</td>\n",
       "    </tr>\n",
       "    <tr>\n",
       "      <th>4</th>\n",
       "      <td>12/27/2022</td>\n",
       "      <td>condo</td>\n",
       "      <td>0</td>\n",
       "      <td>2</td>\n",
       "      <td>17</td>\n",
       "      <td>35</td>\n",
       "      <td>29</td>\n",
       "      <td>14</td>\n",
       "      <td>3</td>\n",
       "    </tr>\n",
       "  </tbody>\n",
       "</table>\n",
       "</div>"
      ],
      "text/plain": [
       "         Date   Word  1 try  2 tries  3 tries  4 tries  5 tries  6 tries  \\\n",
       "0  12/31/2022  manly      0        2       17       37       29       12   \n",
       "1  12/30/2022  molar      0        4       21       38       26        9   \n",
       "2  12/29/2022  havoc      0        2       16       38       30       12   \n",
       "3  12/28/2022  impel      0        3       21       40       25        9   \n",
       "4  12/27/2022  condo      0        2       17       35       29       14   \n",
       "\n",
       "   7 or more tries (X)  \n",
       "0                    2  \n",
       "1                    1  \n",
       "2                    2  \n",
       "3                    1  \n",
       "4                    3  "
      ]
     },
     "execution_count": 408,
     "metadata": {},
     "output_type": "execute_result"
    }
   ],
   "source": [
    "df = df.drop(['Contest number', 'Number of reported results', 'Number in hard mode'], axis=1)\n",
    "df.head()"
   ]
  },
  {
   "cell_type": "markdown",
   "metadata": {},
   "source": [
    "#### Create feature columns for word"
   ]
  },
  {
   "cell_type": "code",
   "execution_count": 409,
   "metadata": {},
   "outputs": [
    {
     "name": "stderr",
     "output_type": "stream",
     "text": [
      "[nltk_data] Downloading package averaged_perceptron_tagger_eng to\n",
      "[nltk_data]     C:\\Users\\leviw\\AppData\\Roaming\\nltk_data...\n",
      "[nltk_data]   Package averaged_perceptron_tagger_eng is already up-to-\n",
      "[nltk_data]       date!\n"
     ]
    },
    {
     "data": {
      "text/html": [
       "<div>\n",
       "<style scoped>\n",
       "    .dataframe tbody tr th:only-of-type {\n",
       "        vertical-align: middle;\n",
       "    }\n",
       "\n",
       "    .dataframe tbody tr th {\n",
       "        vertical-align: top;\n",
       "    }\n",
       "\n",
       "    .dataframe thead th {\n",
       "        text-align: right;\n",
       "    }\n",
       "</style>\n",
       "<table border=\"1\" class=\"dataframe\">\n",
       "  <thead>\n",
       "    <tr style=\"text-align: right;\">\n",
       "      <th></th>\n",
       "      <th>Date</th>\n",
       "      <th>Word</th>\n",
       "      <th>1 try</th>\n",
       "      <th>2 tries</th>\n",
       "      <th>3 tries</th>\n",
       "      <th>4 tries</th>\n",
       "      <th>5 tries</th>\n",
       "      <th>6 tries</th>\n",
       "      <th>7 or more tries (X)</th>\n",
       "      <th>Vowel consonant ratio</th>\n",
       "      <th>...</th>\n",
       "      <th>Word category_JJ</th>\n",
       "      <th>Word category_JJR</th>\n",
       "      <th>Word category_MD</th>\n",
       "      <th>Word category_NN</th>\n",
       "      <th>Word category_NNS</th>\n",
       "      <th>Word category_PRP$</th>\n",
       "      <th>Word category_RB</th>\n",
       "      <th>Word category_VB</th>\n",
       "      <th>Word category_VBG</th>\n",
       "      <th>Word category_VBN</th>\n",
       "    </tr>\n",
       "  </thead>\n",
       "  <tbody>\n",
       "    <tr>\n",
       "      <th>0</th>\n",
       "      <td>12/31/2022</td>\n",
       "      <td>manly</td>\n",
       "      <td>0</td>\n",
       "      <td>2</td>\n",
       "      <td>17</td>\n",
       "      <td>37</td>\n",
       "      <td>29</td>\n",
       "      <td>12</td>\n",
       "      <td>2</td>\n",
       "      <td>0.250000</td>\n",
       "      <td>...</td>\n",
       "      <td>False</td>\n",
       "      <td>False</td>\n",
       "      <td>False</td>\n",
       "      <td>False</td>\n",
       "      <td>False</td>\n",
       "      <td>False</td>\n",
       "      <td>True</td>\n",
       "      <td>False</td>\n",
       "      <td>False</td>\n",
       "      <td>False</td>\n",
       "    </tr>\n",
       "    <tr>\n",
       "      <th>1</th>\n",
       "      <td>12/30/2022</td>\n",
       "      <td>molar</td>\n",
       "      <td>0</td>\n",
       "      <td>4</td>\n",
       "      <td>21</td>\n",
       "      <td>38</td>\n",
       "      <td>26</td>\n",
       "      <td>9</td>\n",
       "      <td>1</td>\n",
       "      <td>0.666667</td>\n",
       "      <td>...</td>\n",
       "      <td>False</td>\n",
       "      <td>False</td>\n",
       "      <td>False</td>\n",
       "      <td>True</td>\n",
       "      <td>False</td>\n",
       "      <td>False</td>\n",
       "      <td>False</td>\n",
       "      <td>False</td>\n",
       "      <td>False</td>\n",
       "      <td>False</td>\n",
       "    </tr>\n",
       "    <tr>\n",
       "      <th>2</th>\n",
       "      <td>12/29/2022</td>\n",
       "      <td>havoc</td>\n",
       "      <td>0</td>\n",
       "      <td>2</td>\n",
       "      <td>16</td>\n",
       "      <td>38</td>\n",
       "      <td>30</td>\n",
       "      <td>12</td>\n",
       "      <td>2</td>\n",
       "      <td>0.666667</td>\n",
       "      <td>...</td>\n",
       "      <td>False</td>\n",
       "      <td>False</td>\n",
       "      <td>False</td>\n",
       "      <td>True</td>\n",
       "      <td>False</td>\n",
       "      <td>False</td>\n",
       "      <td>False</td>\n",
       "      <td>False</td>\n",
       "      <td>False</td>\n",
       "      <td>False</td>\n",
       "    </tr>\n",
       "    <tr>\n",
       "      <th>3</th>\n",
       "      <td>12/28/2022</td>\n",
       "      <td>impel</td>\n",
       "      <td>0</td>\n",
       "      <td>3</td>\n",
       "      <td>21</td>\n",
       "      <td>40</td>\n",
       "      <td>25</td>\n",
       "      <td>9</td>\n",
       "      <td>1</td>\n",
       "      <td>0.666667</td>\n",
       "      <td>...</td>\n",
       "      <td>False</td>\n",
       "      <td>False</td>\n",
       "      <td>False</td>\n",
       "      <td>True</td>\n",
       "      <td>False</td>\n",
       "      <td>False</td>\n",
       "      <td>False</td>\n",
       "      <td>False</td>\n",
       "      <td>False</td>\n",
       "      <td>False</td>\n",
       "    </tr>\n",
       "    <tr>\n",
       "      <th>4</th>\n",
       "      <td>12/27/2022</td>\n",
       "      <td>condo</td>\n",
       "      <td>0</td>\n",
       "      <td>2</td>\n",
       "      <td>17</td>\n",
       "      <td>35</td>\n",
       "      <td>29</td>\n",
       "      <td>14</td>\n",
       "      <td>3</td>\n",
       "      <td>0.666667</td>\n",
       "      <td>...</td>\n",
       "      <td>False</td>\n",
       "      <td>False</td>\n",
       "      <td>False</td>\n",
       "      <td>True</td>\n",
       "      <td>False</td>\n",
       "      <td>False</td>\n",
       "      <td>False</td>\n",
       "      <td>False</td>\n",
       "      <td>False</td>\n",
       "      <td>False</td>\n",
       "    </tr>\n",
       "  </tbody>\n",
       "</table>\n",
       "<p>5 rows × 31 columns</p>\n",
       "</div>"
      ],
      "text/plain": [
       "         Date   Word  1 try  2 tries  3 tries  4 tries  5 tries  6 tries  \\\n",
       "0  12/31/2022  manly      0        2       17       37       29       12   \n",
       "1  12/30/2022  molar      0        4       21       38       26        9   \n",
       "2  12/29/2022  havoc      0        2       16       38       30       12   \n",
       "3  12/28/2022  impel      0        3       21       40       25        9   \n",
       "4  12/27/2022  condo      0        2       17       35       29       14   \n",
       "\n",
       "   7 or more tries (X)  Vowel consonant ratio  ...  Word category_JJ  \\\n",
       "0                    2               0.250000  ...             False   \n",
       "1                    1               0.666667  ...             False   \n",
       "2                    2               0.666667  ...             False   \n",
       "3                    1               0.666667  ...             False   \n",
       "4                    3               0.666667  ...             False   \n",
       "\n",
       "   Word category_JJR  Word category_MD  Word category_NN  Word category_NNS  \\\n",
       "0              False             False             False              False   \n",
       "1              False             False              True              False   \n",
       "2              False             False              True              False   \n",
       "3              False             False              True              False   \n",
       "4              False             False              True              False   \n",
       "\n",
       "   Word category_PRP$  Word category_RB  Word category_VB  Word category_VBG  \\\n",
       "0               False              True             False              False   \n",
       "1               False             False             False              False   \n",
       "2               False             False             False              False   \n",
       "3               False             False             False              False   \n",
       "4               False             False             False              False   \n",
       "\n",
       "   Word category_VBN  \n",
       "0              False  \n",
       "1              False  \n",
       "2              False  \n",
       "3              False  \n",
       "4              False  \n",
       "\n",
       "[5 rows x 31 columns]"
      ]
     },
     "execution_count": 409,
     "metadata": {},
     "output_type": "execute_result"
    }
   ],
   "source": [
    "def vowels_consonants_ratio(word):\n",
    "    vowels = 'aeiou'\n",
    "    word = word.lower()\n",
    "    num_vowels = sum(1 for char in word if char in vowels)\n",
    "    num_consonants = sum(1 for char in word if char.isalpha() and char not in vowels)\n",
    "    if num_consonants == 0:\n",
    "        return 0  # Avoid division by zero\n",
    "    return num_vowels / num_consonants\n",
    "\n",
    "# Scrabble letter values\n",
    "scrabble_values = {\n",
    "    'a': 1,  'b': 3,  'c': 3,  'd': 2,  'e': 1,  'f': 4,  'g': 2,  'h': 4,\n",
    "    'i': 1,  'j': 8,  'k': 5,  'l': 1,  'm': 3,  'n': 1,  'o': 1,  'p': 3,\n",
    "    'q':10,  'r': 1,  's': 1,  't': 1,  'u': 1,  'v': 4,  'w': 4,  'x': 8,\n",
    "    'y': 4,  'z':10\n",
    "}\n",
    "\n",
    "def scrabble_score(word):\n",
    "    return sum(scrabble_values.get(char.lower(), 0) for char in word)\n",
    "\n",
    "def letter_repetition_count(word):\n",
    "    return len(word) - len(set(word.lower()))\n",
    "\n",
    "def create_sentence(word):\n",
    "    return f\"The word is {word}.\"\n",
    "\n",
    "def frequency_score(word):\n",
    "    return zipf_frequency(word.lower(), 'en')\n",
    "\n",
    "words_df = pd.read_csv('wordsv21.csv')\n",
    "word_list = words_df['word'].tolist()\n",
    "def word_permutations(word, num_diff_letters):\n",
    "    count = 0\n",
    "    for w in word_list:\n",
    "        if sum(c1 != c2 for c1, c2 in zip(word.lower(), w.lower())) == num_diff_letters:\n",
    "            count += 1\n",
    "    return count\n",
    "\n",
    "\n",
    "nltk.download('averaged_perceptron_tagger_eng')\n",
    "def word_category(word):\n",
    "    return nltk.pos_tag([word])[0][1]\n",
    "\n",
    "common_bigrams = set(['th', 'he', 'in', 'er', 'an', 're', 'ed', 'on', 'es', 'st'])\n",
    "def common_bigrams_count(word):\n",
    "    word = word.lower()\n",
    "    return sum(1 for i in range(len(word)-1) if word[i:i+2] in common_bigrams)\n",
    "\n",
    "def create_features(my_df):\n",
    "    my_df['Vowel consonant ratio'] = my_df['Word'].apply(vowels_consonants_ratio)\n",
    "    my_df['Scrabble score'] = my_df['Word'].apply(scrabble_score)\n",
    "    my_df['Letter repetition'] = my_df['Word'].apply(letter_repetition_count)\n",
    "    my_df['Frequency score'] = my_df['Word'].apply(frequency_score)\n",
    "    my_df['Words 1 away'] = my_df['Word'].apply(lambda row: word_permutations(row, 1)) # Words only one letter permutation away\n",
    "    # my_df['Words 2 away'] = my_df['Word'].apply(lambda row: word_permutations(row, 2)) # Words only one letter permutation away\n",
    "    my_df['Word category'] = my_df['Word'].apply(word_category)\n",
    "    my_df['Common bigrams'] = my_df['Word'].apply(common_bigrams_count)\n",
    "\n",
    "    my_df['Flesch_Reading_Ease'] = my_df['Word'].apply(lambda x: textstat.flesch_reading_ease(create_sentence(x)))\n",
    "    my_df['Flesch_Kincaid_Grade'] = my_df['Word'].apply(lambda x: textstat.flesch_kincaid_grade(create_sentence(x)))\n",
    "    my_df['Automated_Readability_Index'] = my_df['Word'].apply(lambda x: textstat.automated_readability_index(create_sentence(x)))\n",
    "    my_df['Dale_Chall_Readability_Score'] = my_df['Word'].apply(lambda x: textstat.dale_chall_readability_score(create_sentence(x)))\n",
    "    my_df['Difficult_Words'] = my_df['Word'].apply(lambda x: textstat.difficult_words(create_sentence(x)))\n",
    "\n",
    "    my_df = pd.get_dummies(my_df, columns=['Word category'])\n",
    "    return my_df\n",
    "\n",
    "df = create_features(df)\n",
    "\n",
    "df.head()"
   ]
  },
  {
   "cell_type": "code",
   "execution_count": 410,
   "metadata": {},
   "outputs": [
    {
     "data": {
      "text/plain": [
       "69    2\n",
       "Name: Letter repetition, dtype: int64"
      ]
     },
     "execution_count": 410,
     "metadata": {},
     "output_type": "execute_result"
    }
   ],
   "source": [
    "df[df['Word'] == 'mummy']['Letter repetition']"
   ]
  },
  {
   "cell_type": "markdown",
   "metadata": {},
   "source": [
    "#### Transform date column"
   ]
  },
  {
   "cell_type": "code",
   "execution_count": 411,
   "metadata": {},
   "outputs": [
    {
     "name": "stdout",
     "output_type": "stream",
     "text": [
      "Index(['Word', '1 try', '2 tries', '3 tries', '4 tries', '5 tries', '6 tries',\n",
      "       '7 or more tries (X)', 'Vowel consonant ratio', 'Scrabble score',\n",
      "       'Letter repetition', 'Frequency score', 'Words 1 away',\n",
      "       'Common bigrams', 'Flesch_Reading_Ease', 'Flesch_Kincaid_Grade',\n",
      "       'Automated_Readability_Index', 'Dale_Chall_Readability_Score',\n",
      "       'Difficult_Words', 'Word category_DT', 'Word category_JJ',\n",
      "       'Word category_JJR', 'Word category_MD', 'Word category_NN',\n",
      "       'Word category_NNS', 'Word category_PRP$', 'Word category_RB',\n",
      "       'Word category_VB', 'Word category_VBG', 'Word category_VBN', 'Year',\n",
      "       'Month_1', 'Month_2', 'Month_3', 'Month_4', 'Month_5', 'Month_6',\n",
      "       'Month_7', 'Month_8', 'Month_9', 'Month_10', 'Month_11', 'Month_12',\n",
      "       'Day of week_0', 'Day of week_1', 'Day of week_2', 'Day of week_3',\n",
      "       'Day of week_4', 'Day of week_5', 'Day of week_6', 'Day_1', 'Day_2',\n",
      "       'Day_3', 'Day_4', 'Day_5', 'Day_6', 'Day_7', 'Day_8', 'Day_9', 'Day_10',\n",
      "       'Day_11', 'Day_12', 'Day_13', 'Day_14', 'Day_15', 'Day_16', 'Day_17',\n",
      "       'Day_18', 'Day_19', 'Day_20', 'Day_21', 'Day_22', 'Day_23', 'Day_24',\n",
      "       'Day_25', 'Day_26', 'Day_27', 'Day_28', 'Day_29', 'Day_30', 'Day_31'],\n",
      "      dtype='object')\n"
     ]
    }
   ],
   "source": [
    "def encode_date(my_df):\n",
    "  my_df['Date'] = pd.to_datetime(my_df['Date'])\n",
    "\n",
    "  my_df['Month'] = my_df['Date'].dt.month\n",
    "  my_df['Day of week'] = my_df['Date'].dt.dayofweek  # Monday=0, Sunday=6\n",
    "  my_df['Year'] = my_df['Date'].dt.year\n",
    "  my_df['Day'] = my_df['Date'].dt.day\n",
    "\n",
    "  my_df = pd.get_dummies(my_df, columns=['Month', 'Day of week', 'Day'])\n",
    "  my_df = my_df.drop(['Date'], axis=1)\n",
    "\n",
    "  return my_df\n",
    "\n",
    "df = encode_date(df)\n",
    "print(df.columns)"
   ]
  },
  {
   "cell_type": "markdown",
   "metadata": {},
   "source": [
    "#### Create Model"
   ]
  },
  {
   "cell_type": "code",
   "execution_count": 412,
   "metadata": {},
   "outputs": [
    {
     "data": {
      "text/plain": [
       "4.954460058967142"
      ]
     },
     "execution_count": 412,
     "metadata": {},
     "output_type": "execute_result"
    }
   ],
   "source": [
    "X = df.drop(columns=['1 try', '2 tries', '3 tries', '4 tries', '5 tries', '6 tries', '7 or more tries (X)', 'Word'], axis=1)\n",
    "y = df[['1 try', '2 tries', '3 tries', '4 tries', '5 tries', '6 tries', '7 or more tries (X)']]\n",
    "\n",
    "# Save features for later encoding\n",
    "feature_columns = X.columns.tolist()\n",
    "\n",
    "# Split the data\n",
    "X_train, X_test, y_train, y_test = train_test_split(X, y, test_size=0.2, random_state=42)\n",
    "\n",
    "# Initialize the model\n",
    "xgb = XGBRegressor(objective='reg:squarederror', eval_metric='rmse')\n",
    "\n",
    "# Wrap the model with MultiOutputRegressor\n",
    "multi_output_model = MultiOutputRegressor(xgb)\n",
    "\n",
    "# Train the model\n",
    "multi_output_model.fit(X_train, y_train)\n",
    "\n",
    "# Predict the distribution\n",
    "y_pred = multi_output_model.predict(X_test)\n",
    "\n",
    "# Convert predictions to percentages\n",
    "y_pred_percentage = (y_pred.T / y_pred.sum(axis=1)).T * 100\n",
    "\n",
    "root_mean_squared_error(y_test, y_pred)"
   ]
  },
  {
   "cell_type": "code",
   "execution_count": 413,
   "metadata": {},
   "outputs": [
    {
     "data": {
      "application/vnd.plotly.v1+json": {
       "config": {
        "plotlyServerURL": "https://plot.ly"
       },
       "data": [
        {
         "alignmentgroup": "True",
         "hovertemplate": "Type=Actual_1_try<br>Word=%{x}<br>Value=%{y}<extra></extra>",
         "legendgroup": "Actual_1_try",
         "marker": {
          "color": "#636efa",
          "pattern": {
           "shape": ""
          }
         },
         "name": "Actual_1_try",
         "offsetgroup": "Actual_1_try",
         "orientation": "v",
         "showlegend": true,
         "textposition": "auto",
         "type": "bar",
         "x": [
          "judge",
          "quirk",
          "catch",
          "proxy",
          "vouch",
          "slosh",
          "peach",
          "motto",
          "fewer",
          "gully"
         ],
         "xaxis": "x",
         "y": [
          0,
          0,
          0,
          1,
          0,
          0,
          1,
          0,
          0,
          0
         ],
         "yaxis": "y"
        },
        {
         "alignmentgroup": "True",
         "hovertemplate": "Type=Predicted_1_try<br>Word=%{x}<br>Value=%{y}<extra></extra>",
         "legendgroup": "Predicted_1_try",
         "marker": {
          "color": "#EF553B",
          "pattern": {
           "shape": ""
          }
         },
         "name": "Predicted_1_try",
         "offsetgroup": "Predicted_1_try",
         "orientation": "v",
         "showlegend": true,
         "textposition": "auto",
         "type": "bar",
         "x": [
          "judge",
          "quirk",
          "catch",
          "proxy",
          "vouch",
          "slosh",
          "peach",
          "motto",
          "fewer",
          "gully"
         ],
         "xaxis": "x",
         "y": [
          0.6607780456542969,
          -0.044213246554136276,
          -0.1079326644539833,
          0.9355558156967163,
          0.2262757122516632,
          0.41445446014404297,
          0.8187299370765686,
          -0.09467294067144394,
          0.14215169847011566,
          -0.04652296006679535
         ],
         "yaxis": "y"
        },
        {
         "alignmentgroup": "True",
         "hovertemplate": "Type=Actual_2_tries<br>Word=%{x}<br>Value=%{y}<extra></extra>",
         "legendgroup": "Actual_2_tries",
         "marker": {
          "color": "#00cc96",
          "pattern": {
           "shape": ""
          }
         },
         "name": "Actual_2_tries",
         "offsetgroup": "Actual_2_tries",
         "orientation": "v",
         "showlegend": true,
         "textposition": "auto",
         "type": "bar",
         "x": [
          "judge",
          "quirk",
          "catch",
          "proxy",
          "vouch",
          "slosh",
          "peach",
          "motto",
          "fewer",
          "gully"
         ],
         "xaxis": "x",
         "y": [
          2,
          3,
          7,
          2,
          2,
          2,
          13,
          1,
          2,
          1
         ],
         "yaxis": "y"
        },
        {
         "alignmentgroup": "True",
         "hovertemplate": "Type=Predicted_2_tries<br>Word=%{x}<br>Value=%{y}<extra></extra>",
         "legendgroup": "Predicted_2_tries",
         "marker": {
          "color": "#ab63fa",
          "pattern": {
           "shape": ""
          }
         },
         "name": "Predicted_2_tries",
         "offsetgroup": "Predicted_2_tries",
         "orientation": "v",
         "showlegend": true,
         "textposition": "auto",
         "type": "bar",
         "x": [
          "judge",
          "quirk",
          "catch",
          "proxy",
          "vouch",
          "slosh",
          "peach",
          "motto",
          "fewer",
          "gully"
         ],
         "xaxis": "x",
         "y": [
          6.618044853210449,
          1.4634368419647217,
          5.824440002441406,
          4.148608684539795,
          5.064453125,
          1.206403374671936,
          5.734128952026367,
          2.051382064819336,
          2.6518149375915527,
          2.700289726257324
         ],
         "yaxis": "y"
        },
        {
         "alignmentgroup": "True",
         "hovertemplate": "Type=Actual_3_tries<br>Word=%{x}<br>Value=%{y}<extra></extra>",
         "legendgroup": "Actual_3_tries",
         "marker": {
          "color": "#FFA15A",
          "pattern": {
           "shape": ""
          }
         },
         "name": "Actual_3_tries",
         "offsetgroup": "Actual_3_tries",
         "orientation": "v",
         "showlegend": true,
         "textposition": "auto",
         "type": "bar",
         "x": [
          "judge",
          "quirk",
          "catch",
          "proxy",
          "vouch",
          "slosh",
          "peach",
          "motto",
          "fewer",
          "gully"
         ],
         "xaxis": "x",
         "y": [
          8,
          23,
          18,
          11,
          9,
          19,
          38,
          11,
          10,
          9
         ],
         "yaxis": "y"
        },
        {
         "alignmentgroup": "True",
         "hovertemplate": "Type=Predicted_3_tries<br>Word=%{x}<br>Value=%{y}<extra></extra>",
         "legendgroup": "Predicted_3_tries",
         "marker": {
          "color": "#19d3f3",
          "pattern": {
           "shape": ""
          }
         },
         "name": "Predicted_3_tries",
         "offsetgroup": "Predicted_3_tries",
         "orientation": "v",
         "showlegend": true,
         "textposition": "auto",
         "type": "bar",
         "x": [
          "judge",
          "quirk",
          "catch",
          "proxy",
          "vouch",
          "slosh",
          "peach",
          "motto",
          "fewer",
          "gully"
         ],
         "xaxis": "x",
         "y": [
          31.695945739746094,
          13.77413272857666,
          23.27956199645996,
          21.442472457885742,
          22.584400177001953,
          8.7401704788208,
          23.02481460571289,
          13.820411682128906,
          16.12257957458496,
          16.65619468688965
         ],
         "yaxis": "y"
        },
        {
         "alignmentgroup": "True",
         "hovertemplate": "Type=Actual_4_tries<br>Word=%{x}<br>Value=%{y}<extra></extra>",
         "legendgroup": "Actual_4_tries",
         "marker": {
          "color": "#FF6692",
          "pattern": {
           "shape": ""
          }
         },
         "name": "Actual_4_tries",
         "offsetgroup": "Actual_4_tries",
         "orientation": "v",
         "showlegend": true,
         "textposition": "auto",
         "type": "bar",
         "x": [
          "judge",
          "quirk",
          "catch",
          "proxy",
          "vouch",
          "slosh",
          "peach",
          "motto",
          "fewer",
          "gully"
         ],
         "xaxis": "x",
         "y": [
          16,
          39,
          20,
          24,
          25,
          36,
          32,
          36,
          24,
          27
         ],
         "yaxis": "y"
        },
        {
         "alignmentgroup": "True",
         "hovertemplate": "Type=Predicted_4_tries<br>Word=%{x}<br>Value=%{y}<extra></extra>",
         "legendgroup": "Predicted_4_tries",
         "marker": {
          "color": "#B6E880",
          "pattern": {
           "shape": ""
          }
         },
         "name": "Predicted_4_tries",
         "offsetgroup": "Predicted_4_tries",
         "orientation": "v",
         "showlegend": true,
         "textposition": "auto",
         "type": "bar",
         "x": [
          "judge",
          "quirk",
          "catch",
          "proxy",
          "vouch",
          "slosh",
          "peach",
          "motto",
          "fewer",
          "gully"
         ],
         "xaxis": "x",
         "y": [
          34.949344635009766,
          23.079912185668945,
          36.985206604003906,
          37.83531188964844,
          36.64329147338867,
          19.150897979736328,
          30.9365234375,
          29.892539978027344,
          34.25994873046875,
          33.22187042236328
         ],
         "yaxis": "y"
        },
        {
         "alignmentgroup": "True",
         "hovertemplate": "Type=Actual_5_tries<br>Word=%{x}<br>Value=%{y}<extra></extra>",
         "legendgroup": "Actual_5_tries",
         "marker": {
          "color": "#FF97FF",
          "pattern": {
           "shape": ""
          }
         },
         "name": "Actual_5_tries",
         "offsetgroup": "Actual_5_tries",
         "orientation": "v",
         "showlegend": true,
         "textposition": "auto",
         "type": "bar",
         "x": [
          "judge",
          "quirk",
          "catch",
          "proxy",
          "vouch",
          "slosh",
          "peach",
          "motto",
          "fewer",
          "gully"
         ],
         "xaxis": "x",
         "y": [
          26,
          24,
          15,
          31,
          33,
          27,
          13,
          36,
          32,
          31
         ],
         "yaxis": "y"
        },
        {
         "alignmentgroup": "True",
         "hovertemplate": "Type=Predicted_5_tries<br>Word=%{x}<br>Value=%{y}<extra></extra>",
         "legendgroup": "Predicted_5_tries",
         "marker": {
          "color": "#FECB52",
          "pattern": {
           "shape": ""
          }
         },
         "name": "Predicted_5_tries",
         "offsetgroup": "Predicted_5_tries",
         "orientation": "v",
         "showlegend": true,
         "textposition": "auto",
         "type": "bar",
         "x": [
          "judge",
          "quirk",
          "catch",
          "proxy",
          "vouch",
          "slosh",
          "peach",
          "motto",
          "fewer",
          "gully"
         ],
         "xaxis": "x",
         "y": [
          19.347013473510742,
          31.32195472717285,
          25.150381088256836,
          20.54439353942871,
          25.33403968811035,
          26.67981719970703,
          21.427183151245117,
          24.615171432495117,
          29.08631706237793,
          26.418594360351562
         ],
         "yaxis": "y"
        },
        {
         "alignmentgroup": "True",
         "hovertemplate": "Type=Actual_6_tries<br>Word=%{x}<br>Value=%{y}<extra></extra>",
         "legendgroup": "Actual_6_tries",
         "marker": {
          "color": "#636efa",
          "pattern": {
           "shape": ""
          }
         },
         "name": "Actual_6_tries",
         "offsetgroup": "Actual_6_tries",
         "orientation": "v",
         "showlegend": true,
         "textposition": "auto",
         "type": "bar",
         "x": [
          "judge",
          "quirk",
          "catch",
          "proxy",
          "vouch",
          "slosh",
          "peach",
          "motto",
          "fewer",
          "gully"
         ],
         "xaxis": "x",
         "y": [
          33,
          9,
          16,
          26,
          24,
          13,
          3,
          14,
          26,
          25
         ],
         "yaxis": "y"
        },
        {
         "alignmentgroup": "True",
         "hovertemplate": "Type=Predicted_6_tries<br>Word=%{x}<br>Value=%{y}<extra></extra>",
         "legendgroup": "Predicted_6_tries",
         "marker": {
          "color": "#EF553B",
          "pattern": {
           "shape": ""
          }
         },
         "name": "Predicted_6_tries",
         "offsetgroup": "Predicted_6_tries",
         "orientation": "v",
         "showlegend": true,
         "textposition": "auto",
         "type": "bar",
         "x": [
          "judge",
          "quirk",
          "catch",
          "proxy",
          "vouch",
          "slosh",
          "peach",
          "motto",
          "fewer",
          "gully"
         ],
         "xaxis": "x",
         "y": [
          7.266912460327148,
          19.694272994995117,
          8.138169288635254,
          9.823831558227539,
          10.035237312316895,
          24.295984268188477,
          11.902320861816406,
          23.882715225219727,
          9.994965553283691,
          9.966547012329102
         ],
         "yaxis": "y"
        },
        {
         "alignmentgroup": "True",
         "hovertemplate": "Type=Actual_7_or_more_tries<br>Word=%{x}<br>Value=%{y}<extra></extra>",
         "legendgroup": "Actual_7_or_more_tries",
         "marker": {
          "color": "#00cc96",
          "pattern": {
           "shape": ""
          }
         },
         "name": "Actual_7_or_more_tries",
         "offsetgroup": "Actual_7_or_more_tries",
         "orientation": "v",
         "showlegend": true,
         "textposition": "auto",
         "type": "bar",
         "x": [
          "judge",
          "quirk",
          "catch",
          "proxy",
          "vouch",
          "slosh",
          "peach",
          "motto",
          "fewer",
          "gully"
         ],
         "xaxis": "x",
         "y": [
          14,
          2,
          23,
          6,
          6,
          2,
          0,
          1,
          6,
          7
         ],
         "yaxis": "y"
        },
        {
         "alignmentgroup": "True",
         "hovertemplate": "Type=Predicted_7_or_more_tries<br>Word=%{x}<br>Value=%{y}<extra></extra>",
         "legendgroup": "Predicted_7_or_more_tries",
         "marker": {
          "color": "#ab63fa",
          "pattern": {
           "shape": ""
          }
         },
         "name": "Predicted_7_or_more_tries",
         "offsetgroup": "Predicted_7_or_more_tries",
         "orientation": "v",
         "showlegend": true,
         "textposition": "auto",
         "type": "bar",
         "x": [
          "judge",
          "quirk",
          "catch",
          "proxy",
          "vouch",
          "slosh",
          "peach",
          "motto",
          "fewer",
          "gully"
         ],
         "xaxis": "x",
         "y": [
          0.5580351948738098,
          20.485885620117188,
          1.7444201707839966,
          1.3001124858856201,
          1.7090109586715698,
          11.569762229919434,
          2.7397959232330322,
          10.546777725219727,
          2.833035945892334,
          3.5172712802886963
         ],
         "yaxis": "y"
        },
        {
         "alignmentgroup": "True",
         "hovertemplate": "Type=Total_Error<br>Word=%{x}<br>Value=%{y}<extra></extra>",
         "legendgroup": "Total_Error",
         "marker": {
          "color": "#FFA15A",
          "pattern": {
           "shape": ""
          }
         },
         "name": "Total_Error",
         "offsetgroup": "Total_Error",
         "orientation": "v",
         "showlegend": true,
         "textposition": "auto",
         "type": "bar",
         "x": [
          "judge",
          "quirk",
          "catch",
          "proxy",
          "vouch",
          "slosh",
          "peach",
          "motto",
          "fewer",
          "gully"
         ],
         "xaxis": "x",
         "y": [
          93.7521521449089,
          63.228844832628965,
          62.81605289131403,
          57.82249963283539,
          54.44013252854347,
          49.50291192531586,
          43.55510300397873,
          40.88824822753668,
          39.262176379561424,
          38.72246514260769
         ],
         "yaxis": "y"
        }
       ],
       "layout": {
        "barmode": "group",
        "legend": {
         "title": {
          "text": "Type"
         },
         "tracegroupgap": 0
        },
        "template": {
         "data": {
          "bar": [
           {
            "error_x": {
             "color": "#2a3f5f"
            },
            "error_y": {
             "color": "#2a3f5f"
            },
            "marker": {
             "line": {
              "color": "#E5ECF6",
              "width": 0.5
             },
             "pattern": {
              "fillmode": "overlay",
              "size": 10,
              "solidity": 0.2
             }
            },
            "type": "bar"
           }
          ],
          "barpolar": [
           {
            "marker": {
             "line": {
              "color": "#E5ECF6",
              "width": 0.5
             },
             "pattern": {
              "fillmode": "overlay",
              "size": 10,
              "solidity": 0.2
             }
            },
            "type": "barpolar"
           }
          ],
          "carpet": [
           {
            "aaxis": {
             "endlinecolor": "#2a3f5f",
             "gridcolor": "white",
             "linecolor": "white",
             "minorgridcolor": "white",
             "startlinecolor": "#2a3f5f"
            },
            "baxis": {
             "endlinecolor": "#2a3f5f",
             "gridcolor": "white",
             "linecolor": "white",
             "minorgridcolor": "white",
             "startlinecolor": "#2a3f5f"
            },
            "type": "carpet"
           }
          ],
          "choropleth": [
           {
            "colorbar": {
             "outlinewidth": 0,
             "ticks": ""
            },
            "type": "choropleth"
           }
          ],
          "contour": [
           {
            "colorbar": {
             "outlinewidth": 0,
             "ticks": ""
            },
            "colorscale": [
             [
              0,
              "#0d0887"
             ],
             [
              0.1111111111111111,
              "#46039f"
             ],
             [
              0.2222222222222222,
              "#7201a8"
             ],
             [
              0.3333333333333333,
              "#9c179e"
             ],
             [
              0.4444444444444444,
              "#bd3786"
             ],
             [
              0.5555555555555556,
              "#d8576b"
             ],
             [
              0.6666666666666666,
              "#ed7953"
             ],
             [
              0.7777777777777778,
              "#fb9f3a"
             ],
             [
              0.8888888888888888,
              "#fdca26"
             ],
             [
              1,
              "#f0f921"
             ]
            ],
            "type": "contour"
           }
          ],
          "contourcarpet": [
           {
            "colorbar": {
             "outlinewidth": 0,
             "ticks": ""
            },
            "type": "contourcarpet"
           }
          ],
          "heatmap": [
           {
            "colorbar": {
             "outlinewidth": 0,
             "ticks": ""
            },
            "colorscale": [
             [
              0,
              "#0d0887"
             ],
             [
              0.1111111111111111,
              "#46039f"
             ],
             [
              0.2222222222222222,
              "#7201a8"
             ],
             [
              0.3333333333333333,
              "#9c179e"
             ],
             [
              0.4444444444444444,
              "#bd3786"
             ],
             [
              0.5555555555555556,
              "#d8576b"
             ],
             [
              0.6666666666666666,
              "#ed7953"
             ],
             [
              0.7777777777777778,
              "#fb9f3a"
             ],
             [
              0.8888888888888888,
              "#fdca26"
             ],
             [
              1,
              "#f0f921"
             ]
            ],
            "type": "heatmap"
           }
          ],
          "heatmapgl": [
           {
            "colorbar": {
             "outlinewidth": 0,
             "ticks": ""
            },
            "colorscale": [
             [
              0,
              "#0d0887"
             ],
             [
              0.1111111111111111,
              "#46039f"
             ],
             [
              0.2222222222222222,
              "#7201a8"
             ],
             [
              0.3333333333333333,
              "#9c179e"
             ],
             [
              0.4444444444444444,
              "#bd3786"
             ],
             [
              0.5555555555555556,
              "#d8576b"
             ],
             [
              0.6666666666666666,
              "#ed7953"
             ],
             [
              0.7777777777777778,
              "#fb9f3a"
             ],
             [
              0.8888888888888888,
              "#fdca26"
             ],
             [
              1,
              "#f0f921"
             ]
            ],
            "type": "heatmapgl"
           }
          ],
          "histogram": [
           {
            "marker": {
             "pattern": {
              "fillmode": "overlay",
              "size": 10,
              "solidity": 0.2
             }
            },
            "type": "histogram"
           }
          ],
          "histogram2d": [
           {
            "colorbar": {
             "outlinewidth": 0,
             "ticks": ""
            },
            "colorscale": [
             [
              0,
              "#0d0887"
             ],
             [
              0.1111111111111111,
              "#46039f"
             ],
             [
              0.2222222222222222,
              "#7201a8"
             ],
             [
              0.3333333333333333,
              "#9c179e"
             ],
             [
              0.4444444444444444,
              "#bd3786"
             ],
             [
              0.5555555555555556,
              "#d8576b"
             ],
             [
              0.6666666666666666,
              "#ed7953"
             ],
             [
              0.7777777777777778,
              "#fb9f3a"
             ],
             [
              0.8888888888888888,
              "#fdca26"
             ],
             [
              1,
              "#f0f921"
             ]
            ],
            "type": "histogram2d"
           }
          ],
          "histogram2dcontour": [
           {
            "colorbar": {
             "outlinewidth": 0,
             "ticks": ""
            },
            "colorscale": [
             [
              0,
              "#0d0887"
             ],
             [
              0.1111111111111111,
              "#46039f"
             ],
             [
              0.2222222222222222,
              "#7201a8"
             ],
             [
              0.3333333333333333,
              "#9c179e"
             ],
             [
              0.4444444444444444,
              "#bd3786"
             ],
             [
              0.5555555555555556,
              "#d8576b"
             ],
             [
              0.6666666666666666,
              "#ed7953"
             ],
             [
              0.7777777777777778,
              "#fb9f3a"
             ],
             [
              0.8888888888888888,
              "#fdca26"
             ],
             [
              1,
              "#f0f921"
             ]
            ],
            "type": "histogram2dcontour"
           }
          ],
          "mesh3d": [
           {
            "colorbar": {
             "outlinewidth": 0,
             "ticks": ""
            },
            "type": "mesh3d"
           }
          ],
          "parcoords": [
           {
            "line": {
             "colorbar": {
              "outlinewidth": 0,
              "ticks": ""
             }
            },
            "type": "parcoords"
           }
          ],
          "pie": [
           {
            "automargin": true,
            "type": "pie"
           }
          ],
          "scatter": [
           {
            "fillpattern": {
             "fillmode": "overlay",
             "size": 10,
             "solidity": 0.2
            },
            "type": "scatter"
           }
          ],
          "scatter3d": [
           {
            "line": {
             "colorbar": {
              "outlinewidth": 0,
              "ticks": ""
             }
            },
            "marker": {
             "colorbar": {
              "outlinewidth": 0,
              "ticks": ""
             }
            },
            "type": "scatter3d"
           }
          ],
          "scattercarpet": [
           {
            "marker": {
             "colorbar": {
              "outlinewidth": 0,
              "ticks": ""
             }
            },
            "type": "scattercarpet"
           }
          ],
          "scattergeo": [
           {
            "marker": {
             "colorbar": {
              "outlinewidth": 0,
              "ticks": ""
             }
            },
            "type": "scattergeo"
           }
          ],
          "scattergl": [
           {
            "marker": {
             "colorbar": {
              "outlinewidth": 0,
              "ticks": ""
             }
            },
            "type": "scattergl"
           }
          ],
          "scattermapbox": [
           {
            "marker": {
             "colorbar": {
              "outlinewidth": 0,
              "ticks": ""
             }
            },
            "type": "scattermapbox"
           }
          ],
          "scatterpolar": [
           {
            "marker": {
             "colorbar": {
              "outlinewidth": 0,
              "ticks": ""
             }
            },
            "type": "scatterpolar"
           }
          ],
          "scatterpolargl": [
           {
            "marker": {
             "colorbar": {
              "outlinewidth": 0,
              "ticks": ""
             }
            },
            "type": "scatterpolargl"
           }
          ],
          "scatterternary": [
           {
            "marker": {
             "colorbar": {
              "outlinewidth": 0,
              "ticks": ""
             }
            },
            "type": "scatterternary"
           }
          ],
          "surface": [
           {
            "colorbar": {
             "outlinewidth": 0,
             "ticks": ""
            },
            "colorscale": [
             [
              0,
              "#0d0887"
             ],
             [
              0.1111111111111111,
              "#46039f"
             ],
             [
              0.2222222222222222,
              "#7201a8"
             ],
             [
              0.3333333333333333,
              "#9c179e"
             ],
             [
              0.4444444444444444,
              "#bd3786"
             ],
             [
              0.5555555555555556,
              "#d8576b"
             ],
             [
              0.6666666666666666,
              "#ed7953"
             ],
             [
              0.7777777777777778,
              "#fb9f3a"
             ],
             [
              0.8888888888888888,
              "#fdca26"
             ],
             [
              1,
              "#f0f921"
             ]
            ],
            "type": "surface"
           }
          ],
          "table": [
           {
            "cells": {
             "fill": {
              "color": "#EBF0F8"
             },
             "line": {
              "color": "white"
             }
            },
            "header": {
             "fill": {
              "color": "#C8D4E3"
             },
             "line": {
              "color": "white"
             }
            },
            "type": "table"
           }
          ]
         },
         "layout": {
          "annotationdefaults": {
           "arrowcolor": "#2a3f5f",
           "arrowhead": 0,
           "arrowwidth": 1
          },
          "autotypenumbers": "strict",
          "coloraxis": {
           "colorbar": {
            "outlinewidth": 0,
            "ticks": ""
           }
          },
          "colorscale": {
           "diverging": [
            [
             0,
             "#8e0152"
            ],
            [
             0.1,
             "#c51b7d"
            ],
            [
             0.2,
             "#de77ae"
            ],
            [
             0.3,
             "#f1b6da"
            ],
            [
             0.4,
             "#fde0ef"
            ],
            [
             0.5,
             "#f7f7f7"
            ],
            [
             0.6,
             "#e6f5d0"
            ],
            [
             0.7,
             "#b8e186"
            ],
            [
             0.8,
             "#7fbc41"
            ],
            [
             0.9,
             "#4d9221"
            ],
            [
             1,
             "#276419"
            ]
           ],
           "sequential": [
            [
             0,
             "#0d0887"
            ],
            [
             0.1111111111111111,
             "#46039f"
            ],
            [
             0.2222222222222222,
             "#7201a8"
            ],
            [
             0.3333333333333333,
             "#9c179e"
            ],
            [
             0.4444444444444444,
             "#bd3786"
            ],
            [
             0.5555555555555556,
             "#d8576b"
            ],
            [
             0.6666666666666666,
             "#ed7953"
            ],
            [
             0.7777777777777778,
             "#fb9f3a"
            ],
            [
             0.8888888888888888,
             "#fdca26"
            ],
            [
             1,
             "#f0f921"
            ]
           ],
           "sequentialminus": [
            [
             0,
             "#0d0887"
            ],
            [
             0.1111111111111111,
             "#46039f"
            ],
            [
             0.2222222222222222,
             "#7201a8"
            ],
            [
             0.3333333333333333,
             "#9c179e"
            ],
            [
             0.4444444444444444,
             "#bd3786"
            ],
            [
             0.5555555555555556,
             "#d8576b"
            ],
            [
             0.6666666666666666,
             "#ed7953"
            ],
            [
             0.7777777777777778,
             "#fb9f3a"
            ],
            [
             0.8888888888888888,
             "#fdca26"
            ],
            [
             1,
             "#f0f921"
            ]
           ]
          },
          "colorway": [
           "#636efa",
           "#EF553B",
           "#00cc96",
           "#ab63fa",
           "#FFA15A",
           "#19d3f3",
           "#FF6692",
           "#B6E880",
           "#FF97FF",
           "#FECB52"
          ],
          "font": {
           "color": "#2a3f5f"
          },
          "geo": {
           "bgcolor": "white",
           "lakecolor": "white",
           "landcolor": "#E5ECF6",
           "showlakes": true,
           "showland": true,
           "subunitcolor": "white"
          },
          "hoverlabel": {
           "align": "left"
          },
          "hovermode": "closest",
          "mapbox": {
           "style": "light"
          },
          "paper_bgcolor": "white",
          "plot_bgcolor": "#E5ECF6",
          "polar": {
           "angularaxis": {
            "gridcolor": "white",
            "linecolor": "white",
            "ticks": ""
           },
           "bgcolor": "#E5ECF6",
           "radialaxis": {
            "gridcolor": "white",
            "linecolor": "white",
            "ticks": ""
           }
          },
          "scene": {
           "xaxis": {
            "backgroundcolor": "#E5ECF6",
            "gridcolor": "white",
            "gridwidth": 2,
            "linecolor": "white",
            "showbackground": true,
            "ticks": "",
            "zerolinecolor": "white"
           },
           "yaxis": {
            "backgroundcolor": "#E5ECF6",
            "gridcolor": "white",
            "gridwidth": 2,
            "linecolor": "white",
            "showbackground": true,
            "ticks": "",
            "zerolinecolor": "white"
           },
           "zaxis": {
            "backgroundcolor": "#E5ECF6",
            "gridcolor": "white",
            "gridwidth": 2,
            "linecolor": "white",
            "showbackground": true,
            "ticks": "",
            "zerolinecolor": "white"
           }
          },
          "shapedefaults": {
           "line": {
            "color": "#2a3f5f"
           }
          },
          "ternary": {
           "aaxis": {
            "gridcolor": "white",
            "linecolor": "white",
            "ticks": ""
           },
           "baxis": {
            "gridcolor": "white",
            "linecolor": "white",
            "ticks": ""
           },
           "bgcolor": "#E5ECF6",
           "caxis": {
            "gridcolor": "white",
            "linecolor": "white",
            "ticks": ""
           }
          },
          "title": {
           "x": 0.05
          },
          "xaxis": {
           "automargin": true,
           "gridcolor": "white",
           "linecolor": "white",
           "ticks": "",
           "title": {
            "standoff": 15
           },
           "zerolinecolor": "white",
           "zerolinewidth": 2
          },
          "yaxis": {
           "automargin": true,
           "gridcolor": "white",
           "linecolor": "white",
           "ticks": "",
           "title": {
            "standoff": 15
           },
           "zerolinecolor": "white",
           "zerolinewidth": 2
          }
         }
        },
        "title": {
         "text": "Actual vs Predicted Values for the 10 Worst-Performing Predictions"
        },
        "xaxis": {
         "anchor": "y",
         "domain": [
          0,
          1
         ],
         "title": {
          "text": "Word"
         }
        },
        "yaxis": {
         "anchor": "x",
         "domain": [
          0,
          1
         ],
         "title": {
          "text": "Value"
         }
        }
       }
      }
     },
     "metadata": {},
     "output_type": "display_data"
    }
   ],
   "source": [
    "import plotly.express as px\n",
    "import pandas as pd\n",
    "\n",
    "# Prepare data for plotting\n",
    "results = pd.DataFrame({\n",
    "    'Word': df.loc[y_test.index, 'Word'],\n",
    "    'Actual_1_try': y_test.iloc[:, 0],\n",
    "    'Predicted_1_try': y_pred[:, 0],\n",
    "    'Actual_2_tries': y_test.iloc[:, 1],\n",
    "    'Predicted_2_tries': y_pred[:, 1],\n",
    "    'Actual_3_tries': y_test.iloc[:, 2],\n",
    "    'Predicted_3_tries': y_pred[:, 2],\n",
    "    'Actual_4_tries': y_test.iloc[:, 3],\n",
    "    'Predicted_4_tries': y_pred[:, 3],\n",
    "    'Actual_5_tries': y_test.iloc[:, 4],\n",
    "    'Predicted_5_tries': y_pred[:, 4],\n",
    "    'Actual_6_tries': y_test.iloc[:, 5],\n",
    "    'Predicted_6_tries': y_pred[:, 5],\n",
    "    'Actual_7_or_more_tries': y_test.iloc[:, 6],\n",
    "    'Predicted_7_or_more_tries': y_pred[:, 6]\n",
    "})\n",
    "\n",
    "results['Total_Error'] = np.abs(results['Actual_1_try'] - results['Predicted_1_try']) + \\\n",
    "                         np.abs(results['Actual_2_tries'] - results['Predicted_2_tries']) + \\\n",
    "                         np.abs(results['Actual_3_tries'] - results['Predicted_3_tries']) + \\\n",
    "                         np.abs(results['Actual_4_tries'] - results['Predicted_4_tries']) + \\\n",
    "                         np.abs(results['Actual_5_tries'] - results['Predicted_5_tries']) + \\\n",
    "                         np.abs(results['Actual_6_tries'] - results['Predicted_6_tries']) + \\\n",
    "                         np.abs(results['Actual_7_or_more_tries'] - results['Predicted_7_or_more_tries'])\n",
    "\n",
    "worst_results = results.nlargest(10, 'Total_Error')\n",
    "\n",
    "worst_results_melted = worst_results.melt(id_vars='Word', var_name='Type', value_name='Value')\n",
    "\n",
    "# Create a grouped bar plot\n",
    "fig = px.bar(worst_results_melted, x='Word', y='Value', color='Type', barmode='group',\n",
    "             title='Actual vs Predicted Values for the 10 Worst-Performing Predictions')\n",
    "\n",
    "# Show plot\n",
    "fig.show()"
   ]
  },
  {
   "cell_type": "markdown",
   "metadata": {},
   "source": [
    "#### Feature Importances"
   ]
  },
  {
   "cell_type": "code",
   "execution_count": 414,
   "metadata": {},
   "outputs": [
    {
     "data": {
      "text/html": [
       "<div>\n",
       "<style scoped>\n",
       "    .dataframe tbody tr th:only-of-type {\n",
       "        vertical-align: middle;\n",
       "    }\n",
       "\n",
       "    .dataframe tbody tr th {\n",
       "        vertical-align: top;\n",
       "    }\n",
       "\n",
       "    .dataframe thead th {\n",
       "        text-align: right;\n",
       "    }\n",
       "</style>\n",
       "<table border=\"1\" class=\"dataframe\">\n",
       "  <thead>\n",
       "    <tr style=\"text-align: right;\">\n",
       "      <th></th>\n",
       "      <th>Importance</th>\n",
       "    </tr>\n",
       "  </thead>\n",
       "  <tbody>\n",
       "    <tr>\n",
       "      <th>Dale_Chall_Readability_Score</th>\n",
       "      <td>0.139943</td>\n",
       "    </tr>\n",
       "    <tr>\n",
       "      <th>Month_2</th>\n",
       "      <td>0.126057</td>\n",
       "    </tr>\n",
       "    <tr>\n",
       "      <th>Day_24</th>\n",
       "      <td>0.103385</td>\n",
       "    </tr>\n",
       "    <tr>\n",
       "      <th>Month_9</th>\n",
       "      <td>0.091947</td>\n",
       "    </tr>\n",
       "    <tr>\n",
       "      <th>Month_1</th>\n",
       "      <td>0.088537</td>\n",
       "    </tr>\n",
       "    <tr>\n",
       "      <th>...</th>\n",
       "      <td>...</td>\n",
       "    </tr>\n",
       "    <tr>\n",
       "      <th>Word category_PRP$</th>\n",
       "      <td>0.000000</td>\n",
       "    </tr>\n",
       "    <tr>\n",
       "      <th>Automated_Readability_Index</th>\n",
       "      <td>0.000000</td>\n",
       "    </tr>\n",
       "    <tr>\n",
       "      <th>Year</th>\n",
       "      <td>0.000000</td>\n",
       "    </tr>\n",
       "    <tr>\n",
       "      <th>Word category_JJR</th>\n",
       "      <td>0.000000</td>\n",
       "    </tr>\n",
       "    <tr>\n",
       "      <th>Word category_VB</th>\n",
       "      <td>0.000000</td>\n",
       "    </tr>\n",
       "  </tbody>\n",
       "</table>\n",
       "<p>73 rows × 1 columns</p>\n",
       "</div>"
      ],
      "text/plain": [
       "                              Importance\n",
       "Dale_Chall_Readability_Score    0.139943\n",
       "Month_2                         0.126057\n",
       "Day_24                          0.103385\n",
       "Month_9                         0.091947\n",
       "Month_1                         0.088537\n",
       "...                                  ...\n",
       "Word category_PRP$              0.000000\n",
       "Automated_Readability_Index     0.000000\n",
       "Year                            0.000000\n",
       "Word category_JJR               0.000000\n",
       "Word category_VB                0.000000\n",
       "\n",
       "[73 rows x 1 columns]"
      ]
     },
     "execution_count": 414,
     "metadata": {},
     "output_type": "execute_result"
    }
   ],
   "source": [
    "# Show the model feature importances\n",
    "importances = multi_output_model.estimators_[0].feature_importances_\n",
    "importances_df = pd.DataFrame(importances, index=X.columns, columns=['Importance'])\n",
    "importances_df = importances_df.sort_values('Importance', ascending=False)\n",
    "importances_df"
   ]
  },
  {
   "cell_type": "markdown",
   "metadata": {},
   "source": [
    "#### Predict for Eerie"
   ]
  },
  {
   "cell_type": "code",
   "execution_count": 415,
   "metadata": {},
   "outputs": [
    {
     "name": "stdout",
     "output_type": "stream",
     "text": [
      "[[ 0.17052296  8.650203   20.131477   30.767668   19.569504   15.9542885\n",
      "   4.0361977 ]]\n",
      "99.27986\n"
     ]
    }
   ],
   "source": [
    "eerie_df = pd.DataFrame({\n",
    "  'Date': '2023-03-01',\n",
    "  'Word': 'EERIE'\n",
    "}, index=[0])\n",
    "\n",
    "eerie_df = create_features(eerie_df)\n",
    "eerie_df = encode_date(eerie_df)\n",
    "eerie_df = eerie_df.drop(columns=['Word'], axis=1)\n",
    "\n",
    "eerie_df = eerie_df.reindex(columns=feature_columns, fill_value=0)\n",
    "\n",
    "output = multi_output_model.predict(eerie_df)\n",
    "print(output)\n",
    "print(output.sum())"
   ]
  }
 ],
 "metadata": {
  "kernelspec": {
   "display_name": "Python 3",
   "language": "python",
   "name": "python3"
  },
  "language_info": {
   "codemirror_mode": {
    "name": "ipython",
    "version": 3
   },
   "file_extension": ".py",
   "mimetype": "text/x-python",
   "name": "python",
   "nbconvert_exporter": "python",
   "pygments_lexer": "ipython3",
   "version": "3.12.1"
  }
 },
 "nbformat": 4,
 "nbformat_minor": 2
}
