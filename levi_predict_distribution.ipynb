{
 "cells": [
  {
   "cell_type": "code",
   "execution_count": 26,
   "metadata": {},
   "outputs": [],
   "source": [
    "import pandas as pd\n",
    "import plotly.express as px\n",
    "import numpy as np\n",
    "from xgboost import XGBRegressor\n",
    "\n",
    "from sklearn.model_selection import train_test_split\n",
    "from sklearn.multioutput import MultiOutputRegressor\n",
    "from sklearn.metrics import root_mean_squared_error, r2_score\n",
    "\n",
    "from textstat import textstat # Used to get reading level\n",
    "from wordfreq import zipf_frequency # Used to get word frequency\n",
    "import nltk # Used to classify words"
   ]
  },
  {
   "cell_type": "markdown",
   "metadata": {},
   "source": [
    "#### Load Data"
   ]
  },
  {
   "cell_type": "code",
   "execution_count": 27,
   "metadata": {},
   "outputs": [
    {
     "data": {
      "text/html": [
       "<div>\n",
       "<style scoped>\n",
       "    .dataframe tbody tr th:only-of-type {\n",
       "        vertical-align: middle;\n",
       "    }\n",
       "\n",
       "    .dataframe tbody tr th {\n",
       "        vertical-align: top;\n",
       "    }\n",
       "\n",
       "    .dataframe thead th {\n",
       "        text-align: right;\n",
       "    }\n",
       "</style>\n",
       "<table border=\"1\" class=\"dataframe\">\n",
       "  <thead>\n",
       "    <tr style=\"text-align: right;\">\n",
       "      <th></th>\n",
       "      <th>Date</th>\n",
       "      <th>Contest number</th>\n",
       "      <th>Word</th>\n",
       "      <th>Number of reported results</th>\n",
       "      <th>Number in hard mode</th>\n",
       "      <th>1 try</th>\n",
       "      <th>2 tries</th>\n",
       "      <th>3 tries</th>\n",
       "      <th>4 tries</th>\n",
       "      <th>5 tries</th>\n",
       "      <th>6 tries</th>\n",
       "      <th>7 or more tries (X)</th>\n",
       "    </tr>\n",
       "  </thead>\n",
       "  <tbody>\n",
       "    <tr>\n",
       "      <th>0</th>\n",
       "      <td>12/31/2022</td>\n",
       "      <td>560</td>\n",
       "      <td>manly</td>\n",
       "      <td>20380</td>\n",
       "      <td>1899</td>\n",
       "      <td>0</td>\n",
       "      <td>2</td>\n",
       "      <td>17</td>\n",
       "      <td>37</td>\n",
       "      <td>29</td>\n",
       "      <td>12</td>\n",
       "      <td>2</td>\n",
       "    </tr>\n",
       "    <tr>\n",
       "      <th>1</th>\n",
       "      <td>12/30/2022</td>\n",
       "      <td>559</td>\n",
       "      <td>molar</td>\n",
       "      <td>21204</td>\n",
       "      <td>1973</td>\n",
       "      <td>0</td>\n",
       "      <td>4</td>\n",
       "      <td>21</td>\n",
       "      <td>38</td>\n",
       "      <td>26</td>\n",
       "      <td>9</td>\n",
       "      <td>1</td>\n",
       "    </tr>\n",
       "    <tr>\n",
       "      <th>2</th>\n",
       "      <td>12/29/2022</td>\n",
       "      <td>558</td>\n",
       "      <td>havoc</td>\n",
       "      <td>20001</td>\n",
       "      <td>1919</td>\n",
       "      <td>0</td>\n",
       "      <td>2</td>\n",
       "      <td>16</td>\n",
       "      <td>38</td>\n",
       "      <td>30</td>\n",
       "      <td>12</td>\n",
       "      <td>2</td>\n",
       "    </tr>\n",
       "    <tr>\n",
       "      <th>3</th>\n",
       "      <td>12/28/2022</td>\n",
       "      <td>557</td>\n",
       "      <td>impel</td>\n",
       "      <td>20160</td>\n",
       "      <td>1937</td>\n",
       "      <td>0</td>\n",
       "      <td>3</td>\n",
       "      <td>21</td>\n",
       "      <td>40</td>\n",
       "      <td>25</td>\n",
       "      <td>9</td>\n",
       "      <td>1</td>\n",
       "    </tr>\n",
       "    <tr>\n",
       "      <th>4</th>\n",
       "      <td>12/27/2022</td>\n",
       "      <td>556</td>\n",
       "      <td>condo</td>\n",
       "      <td>20879</td>\n",
       "      <td>2012</td>\n",
       "      <td>0</td>\n",
       "      <td>2</td>\n",
       "      <td>17</td>\n",
       "      <td>35</td>\n",
       "      <td>29</td>\n",
       "      <td>14</td>\n",
       "      <td>3</td>\n",
       "    </tr>\n",
       "  </tbody>\n",
       "</table>\n",
       "</div>"
      ],
      "text/plain": [
       "         Date  Contest number   Word  Number of reported results  \\\n",
       "0  12/31/2022             560  manly                       20380   \n",
       "1  12/30/2022             559  molar                       21204   \n",
       "2  12/29/2022             558  havoc                       20001   \n",
       "3  12/28/2022             557  impel                       20160   \n",
       "4  12/27/2022             556  condo                       20879   \n",
       "\n",
       "   Number in hard mode  1 try  2 tries  3 tries  4 tries  5 tries  6 tries  \\\n",
       "0                 1899      0        2       17       37       29       12   \n",
       "1                 1973      0        4       21       38       26        9   \n",
       "2                 1919      0        2       16       38       30       12   \n",
       "3                 1937      0        3       21       40       25        9   \n",
       "4                 2012      0        2       17       35       29       14   \n",
       "\n",
       "   7 or more tries (X)  \n",
       "0                    2  \n",
       "1                    1  \n",
       "2                    2  \n",
       "3                    1  \n",
       "4                    3  "
      ]
     },
     "execution_count": 27,
     "metadata": {},
     "output_type": "execute_result"
    }
   ],
   "source": [
    "df = pd.read_csv('Problem_C_Data_Wordle.csv', encoding='latin1');\n",
    "df.head()"
   ]
  },
  {
   "cell_type": "markdown",
   "metadata": {},
   "source": [
    "#### Fix the typo? And special characters"
   ]
  },
  {
   "cell_type": "code",
   "execution_count": 28,
   "metadata": {},
   "outputs": [
    {
     "name": "stdout",
     "output_type": "stream",
     "text": [
      "1\n",
      "1\n"
     ]
    }
   ],
   "source": [
    "# Replace the Word 'marxh' in the dataframe with 'march'\n",
    "df['Word'] = df['Word'].replace('marxh', 'march')\n",
    "df['Word'] = df['Word'].replace('naï¿½ve', 'naive')\n",
    "\n",
    "print(len(df[df['Word'] == 'march']))\n",
    "print(len(df[df['Word'] == 'naive']))"
   ]
  },
  {
   "cell_type": "markdown",
   "metadata": {},
   "source": [
    "#### Drop data that we can't use"
   ]
  },
  {
   "cell_type": "code",
   "execution_count": 29,
   "metadata": {},
   "outputs": [
    {
     "data": {
      "text/html": [
       "<div>\n",
       "<style scoped>\n",
       "    .dataframe tbody tr th:only-of-type {\n",
       "        vertical-align: middle;\n",
       "    }\n",
       "\n",
       "    .dataframe tbody tr th {\n",
       "        vertical-align: top;\n",
       "    }\n",
       "\n",
       "    .dataframe thead th {\n",
       "        text-align: right;\n",
       "    }\n",
       "</style>\n",
       "<table border=\"1\" class=\"dataframe\">\n",
       "  <thead>\n",
       "    <tr style=\"text-align: right;\">\n",
       "      <th></th>\n",
       "      <th>Date</th>\n",
       "      <th>Word</th>\n",
       "      <th>Number of reported results</th>\n",
       "      <th>Number in hard mode</th>\n",
       "      <th>1 try</th>\n",
       "      <th>2 tries</th>\n",
       "      <th>3 tries</th>\n",
       "      <th>4 tries</th>\n",
       "      <th>5 tries</th>\n",
       "      <th>6 tries</th>\n",
       "      <th>7 or more tries (X)</th>\n",
       "    </tr>\n",
       "  </thead>\n",
       "  <tbody>\n",
       "    <tr>\n",
       "      <th>0</th>\n",
       "      <td>12/31/2022</td>\n",
       "      <td>manly</td>\n",
       "      <td>20380</td>\n",
       "      <td>1899</td>\n",
       "      <td>0</td>\n",
       "      <td>2</td>\n",
       "      <td>17</td>\n",
       "      <td>37</td>\n",
       "      <td>29</td>\n",
       "      <td>12</td>\n",
       "      <td>2</td>\n",
       "    </tr>\n",
       "    <tr>\n",
       "      <th>1</th>\n",
       "      <td>12/30/2022</td>\n",
       "      <td>molar</td>\n",
       "      <td>21204</td>\n",
       "      <td>1973</td>\n",
       "      <td>0</td>\n",
       "      <td>4</td>\n",
       "      <td>21</td>\n",
       "      <td>38</td>\n",
       "      <td>26</td>\n",
       "      <td>9</td>\n",
       "      <td>1</td>\n",
       "    </tr>\n",
       "    <tr>\n",
       "      <th>2</th>\n",
       "      <td>12/29/2022</td>\n",
       "      <td>havoc</td>\n",
       "      <td>20001</td>\n",
       "      <td>1919</td>\n",
       "      <td>0</td>\n",
       "      <td>2</td>\n",
       "      <td>16</td>\n",
       "      <td>38</td>\n",
       "      <td>30</td>\n",
       "      <td>12</td>\n",
       "      <td>2</td>\n",
       "    </tr>\n",
       "    <tr>\n",
       "      <th>3</th>\n",
       "      <td>12/28/2022</td>\n",
       "      <td>impel</td>\n",
       "      <td>20160</td>\n",
       "      <td>1937</td>\n",
       "      <td>0</td>\n",
       "      <td>3</td>\n",
       "      <td>21</td>\n",
       "      <td>40</td>\n",
       "      <td>25</td>\n",
       "      <td>9</td>\n",
       "      <td>1</td>\n",
       "    </tr>\n",
       "    <tr>\n",
       "      <th>4</th>\n",
       "      <td>12/27/2022</td>\n",
       "      <td>condo</td>\n",
       "      <td>20879</td>\n",
       "      <td>2012</td>\n",
       "      <td>0</td>\n",
       "      <td>2</td>\n",
       "      <td>17</td>\n",
       "      <td>35</td>\n",
       "      <td>29</td>\n",
       "      <td>14</td>\n",
       "      <td>3</td>\n",
       "    </tr>\n",
       "  </tbody>\n",
       "</table>\n",
       "</div>"
      ],
      "text/plain": [
       "         Date   Word  Number of reported results  Number in hard mode  1 try  \\\n",
       "0  12/31/2022  manly                       20380                 1899      0   \n",
       "1  12/30/2022  molar                       21204                 1973      0   \n",
       "2  12/29/2022  havoc                       20001                 1919      0   \n",
       "3  12/28/2022  impel                       20160                 1937      0   \n",
       "4  12/27/2022  condo                       20879                 2012      0   \n",
       "\n",
       "   2 tries  3 tries  4 tries  5 tries  6 tries  7 or more tries (X)  \n",
       "0        2       17       37       29       12                    2  \n",
       "1        4       21       38       26        9                    1  \n",
       "2        2       16       38       30       12                    2  \n",
       "3        3       21       40       25        9                    1  \n",
       "4        2       17       35       29       14                    3  "
      ]
     },
     "execution_count": 29,
     "metadata": {},
     "output_type": "execute_result"
    }
   ],
   "source": [
    "# df = df.drop(['Contest number', 'Number of reported results', 'Number in hard mode'], axis=1)\n",
    "df = df.drop(['Contest number'], axis=1)\n",
    "\n",
    "df.head()"
   ]
  },
  {
   "cell_type": "markdown",
   "metadata": {},
   "source": [
    "#### Create feature columns for word"
   ]
  },
  {
   "cell_type": "code",
   "execution_count": 30,
   "metadata": {},
   "outputs": [
    {
     "name": "stderr",
     "output_type": "stream",
     "text": [
      "[nltk_data] Downloading package averaged_perceptron_tagger_eng to\n",
      "[nltk_data]     C:\\Users\\leviw\\AppData\\Roaming\\nltk_data...\n",
      "[nltk_data]   Package averaged_perceptron_tagger_eng is already up-to-\n",
      "[nltk_data]       date!\n"
     ]
    },
    {
     "data": {
      "text/html": [
       "<div>\n",
       "<style scoped>\n",
       "    .dataframe tbody tr th:only-of-type {\n",
       "        vertical-align: middle;\n",
       "    }\n",
       "\n",
       "    .dataframe tbody tr th {\n",
       "        vertical-align: top;\n",
       "    }\n",
       "\n",
       "    .dataframe thead th {\n",
       "        text-align: right;\n",
       "    }\n",
       "</style>\n",
       "<table border=\"1\" class=\"dataframe\">\n",
       "  <thead>\n",
       "    <tr style=\"text-align: right;\">\n",
       "      <th></th>\n",
       "      <th>Date</th>\n",
       "      <th>Word</th>\n",
       "      <th>Number of reported results</th>\n",
       "      <th>Number in hard mode</th>\n",
       "      <th>1 try</th>\n",
       "      <th>2 tries</th>\n",
       "      <th>3 tries</th>\n",
       "      <th>4 tries</th>\n",
       "      <th>5 tries</th>\n",
       "      <th>6 tries</th>\n",
       "      <th>...</th>\n",
       "      <th>q</th>\n",
       "      <th>r</th>\n",
       "      <th>s</th>\n",
       "      <th>t</th>\n",
       "      <th>u</th>\n",
       "      <th>v</th>\n",
       "      <th>w</th>\n",
       "      <th>x</th>\n",
       "      <th>y</th>\n",
       "      <th>z</th>\n",
       "    </tr>\n",
       "  </thead>\n",
       "  <tbody>\n",
       "    <tr>\n",
       "      <th>0</th>\n",
       "      <td>12/31/2022</td>\n",
       "      <td>manly</td>\n",
       "      <td>20380</td>\n",
       "      <td>1899</td>\n",
       "      <td>0</td>\n",
       "      <td>2</td>\n",
       "      <td>17</td>\n",
       "      <td>37</td>\n",
       "      <td>29</td>\n",
       "      <td>12</td>\n",
       "      <td>...</td>\n",
       "      <td>0</td>\n",
       "      <td>0</td>\n",
       "      <td>0</td>\n",
       "      <td>0</td>\n",
       "      <td>0</td>\n",
       "      <td>0</td>\n",
       "      <td>0</td>\n",
       "      <td>0</td>\n",
       "      <td>1</td>\n",
       "      <td>0</td>\n",
       "    </tr>\n",
       "    <tr>\n",
       "      <th>1</th>\n",
       "      <td>12/30/2022</td>\n",
       "      <td>molar</td>\n",
       "      <td>21204</td>\n",
       "      <td>1973</td>\n",
       "      <td>0</td>\n",
       "      <td>4</td>\n",
       "      <td>21</td>\n",
       "      <td>38</td>\n",
       "      <td>26</td>\n",
       "      <td>9</td>\n",
       "      <td>...</td>\n",
       "      <td>0</td>\n",
       "      <td>1</td>\n",
       "      <td>0</td>\n",
       "      <td>0</td>\n",
       "      <td>0</td>\n",
       "      <td>0</td>\n",
       "      <td>0</td>\n",
       "      <td>0</td>\n",
       "      <td>0</td>\n",
       "      <td>0</td>\n",
       "    </tr>\n",
       "    <tr>\n",
       "      <th>2</th>\n",
       "      <td>12/29/2022</td>\n",
       "      <td>havoc</td>\n",
       "      <td>20001</td>\n",
       "      <td>1919</td>\n",
       "      <td>0</td>\n",
       "      <td>2</td>\n",
       "      <td>16</td>\n",
       "      <td>38</td>\n",
       "      <td>30</td>\n",
       "      <td>12</td>\n",
       "      <td>...</td>\n",
       "      <td>0</td>\n",
       "      <td>0</td>\n",
       "      <td>0</td>\n",
       "      <td>0</td>\n",
       "      <td>0</td>\n",
       "      <td>1</td>\n",
       "      <td>0</td>\n",
       "      <td>0</td>\n",
       "      <td>0</td>\n",
       "      <td>0</td>\n",
       "    </tr>\n",
       "    <tr>\n",
       "      <th>3</th>\n",
       "      <td>12/28/2022</td>\n",
       "      <td>impel</td>\n",
       "      <td>20160</td>\n",
       "      <td>1937</td>\n",
       "      <td>0</td>\n",
       "      <td>3</td>\n",
       "      <td>21</td>\n",
       "      <td>40</td>\n",
       "      <td>25</td>\n",
       "      <td>9</td>\n",
       "      <td>...</td>\n",
       "      <td>0</td>\n",
       "      <td>0</td>\n",
       "      <td>0</td>\n",
       "      <td>0</td>\n",
       "      <td>0</td>\n",
       "      <td>0</td>\n",
       "      <td>0</td>\n",
       "      <td>0</td>\n",
       "      <td>0</td>\n",
       "      <td>0</td>\n",
       "    </tr>\n",
       "    <tr>\n",
       "      <th>4</th>\n",
       "      <td>12/27/2022</td>\n",
       "      <td>condo</td>\n",
       "      <td>20879</td>\n",
       "      <td>2012</td>\n",
       "      <td>0</td>\n",
       "      <td>2</td>\n",
       "      <td>17</td>\n",
       "      <td>35</td>\n",
       "      <td>29</td>\n",
       "      <td>14</td>\n",
       "      <td>...</td>\n",
       "      <td>0</td>\n",
       "      <td>0</td>\n",
       "      <td>0</td>\n",
       "      <td>0</td>\n",
       "      <td>0</td>\n",
       "      <td>0</td>\n",
       "      <td>0</td>\n",
       "      <td>0</td>\n",
       "      <td>0</td>\n",
       "      <td>0</td>\n",
       "    </tr>\n",
       "  </tbody>\n",
       "</table>\n",
       "<p>5 rows × 58 columns</p>\n",
       "</div>"
      ],
      "text/plain": [
       "         Date   Word  Number of reported results  Number in hard mode  1 try  \\\n",
       "0  12/31/2022  manly                       20380                 1899      0   \n",
       "1  12/30/2022  molar                       21204                 1973      0   \n",
       "2  12/29/2022  havoc                       20001                 1919      0   \n",
       "3  12/28/2022  impel                       20160                 1937      0   \n",
       "4  12/27/2022  condo                       20879                 2012      0   \n",
       "\n",
       "   2 tries  3 tries  4 tries  5 tries  6 tries  ...  q  r  s  t  u  v  w  x  \\\n",
       "0        2       17       37       29       12  ...  0  0  0  0  0  0  0  0   \n",
       "1        4       21       38       26        9  ...  0  1  0  0  0  0  0  0   \n",
       "2        2       16       38       30       12  ...  0  0  0  0  0  1  0  0   \n",
       "3        3       21       40       25        9  ...  0  0  0  0  0  0  0  0   \n",
       "4        2       17       35       29       14  ...  0  0  0  0  0  0  0  0   \n",
       "\n",
       "   y  z  \n",
       "0  1  0  \n",
       "1  0  0  \n",
       "2  0  0  \n",
       "3  0  0  \n",
       "4  0  0  \n",
       "\n",
       "[5 rows x 58 columns]"
      ]
     },
     "execution_count": 30,
     "metadata": {},
     "output_type": "execute_result"
    }
   ],
   "source": [
    "import string\n",
    "\n",
    "def vowels_consonants_ratio(word):\n",
    "    vowels = 'aeiou'\n",
    "    word = word.lower()\n",
    "    num_vowels = sum(1 for char in word if char in vowels)\n",
    "    num_consonants = sum(1 for char in word if char.isalpha() and char not in vowels)\n",
    "    if num_consonants == 0:\n",
    "        return 0  # Avoid division by zero\n",
    "    return num_vowels / num_consonants\n",
    "\n",
    "# Scrabble letter values\n",
    "scrabble_values = {\n",
    "    'a': 1,  'b': 3,  'c': 3,  'd': 2,  'e': 1,  'f': 4,  'g': 2,  'h': 4,\n",
    "    'i': 1,  'j': 8,  'k': 5,  'l': 1,  'm': 3,  'n': 1,  'o': 1,  'p': 3,\n",
    "    'q':10,  'r': 1,  's': 1,  't': 1,  'u': 1,  'v': 4,  'w': 4,  'x': 8,\n",
    "    'y': 4,  'z':10\n",
    "}\n",
    "\n",
    "def scrabble_score(word):\n",
    "    return sum(scrabble_values.get(char.lower(), 0) for char in word)\n",
    "\n",
    "def letter_repetition_count(word):\n",
    "    return len(word) - len(set(word.lower()))\n",
    "\n",
    "def create_sentence(word):\n",
    "    return f\"The word is {word}.\"\n",
    "\n",
    "def frequency_score(word):\n",
    "    return zipf_frequency(word.lower(), 'en')\n",
    "\n",
    "words_df = pd.read_csv('wordsv21.csv')\n",
    "word_list = words_df['word'].tolist()\n",
    "def word_permutations(word, num_diff_letters):\n",
    "    count = 0\n",
    "    for w in word_list:\n",
    "        if sum(c1 != c2 for c1, c2 in zip(word.lower(), w.lower())) == num_diff_letters:\n",
    "            count += 1\n",
    "    return count\n",
    "\n",
    "\n",
    "nltk.download('averaged_perceptron_tagger_eng')\n",
    "def word_category(word):\n",
    "    return nltk.pos_tag([word])[0][1]\n",
    "\n",
    "common_bigrams = set(['th', 'he', 'in', 'er', 'an', 're', 'ed', 'on', 'es', 'st'])\n",
    "def common_bigrams_count(word):\n",
    "    word = word.lower()\n",
    "    return sum(1 for i in range(len(word)-1) if word[i:i+2] in common_bigrams)\n",
    "\n",
    "def add_letter_count_features(my_df):\n",
    "    # Get a list of all lowercase letters\n",
    "    letters = list(string.ascii_lowercase)\n",
    "    \n",
    "    # Initialize new columns in the DataFrame for each letter with zeros\n",
    "    for letter in letters:\n",
    "        my_df[letter] = 0\n",
    "\n",
    "    # Function to count letters in a word\n",
    "    def count_letters(word):\n",
    "        word = word.lower()\n",
    "        letter_counts = {}\n",
    "        for letter in letters:\n",
    "            letter_counts[letter] = word.count(letter)\n",
    "        return letter_counts\n",
    "\n",
    "    for idx, word in my_df['Word'].items():\n",
    "        letter_counts = count_letters(word)\n",
    "        for letter, count in letter_counts.items():\n",
    "            my_df.at[idx, letter] = count\n",
    "\n",
    "    return my_df\n",
    "\n",
    "def create_features(my_df):\n",
    "    my_df['Vowel consonant ratio'] = my_df['Word'].apply(vowels_consonants_ratio)\n",
    "    my_df['Scrabble score'] = my_df['Word'].apply(scrabble_score)\n",
    "    my_df['Letter repetition'] = my_df['Word'].apply(letter_repetition_count)\n",
    "    my_df['Frequency score'] = my_df['Word'].apply(frequency_score)\n",
    "    my_df['Words 1 away'] = my_df['Word'].apply(lambda row: word_permutations(row, 1)) # Words only one letter permutation away\n",
    "    my_df['Words 2 away'] = my_df['Word'].apply(lambda row: word_permutations(row, 2)) # Words only one letter permutation away\n",
    "    my_df['Word category'] = my_df['Word'].apply(word_category)\n",
    "    my_df['Common bigrams'] = my_df['Word'].apply(common_bigrams_count)\n",
    "    my_df['Flesch_Reading_Ease'] = my_df['Word'].apply(lambda x: textstat.flesch_reading_ease(create_sentence(x)))\n",
    "    my_df['Dale_Chall_Readability_Score'] = my_df['Word'].apply(lambda x: textstat.dale_chall_readability_score(create_sentence(x)))\n",
    "    my_df['Difficult_Words'] = my_df['Word'].apply(lambda x: textstat.difficult_words(create_sentence(x)))\n",
    "    # my_df['Flesch_Kincaid_Grade'] = my_df['Word'].apply(lambda x: textstat.flesch_kincaid_grade(create_sentence(x)))\n",
    "\n",
    "    my_df = pd.get_dummies(my_df, columns=['Word category'])\n",
    "    my_df = add_letter_count_features(my_df)\n",
    "    return my_df\n",
    "\n",
    "df = create_features(df)\n",
    "\n",
    "df.head()"
   ]
  },
  {
   "cell_type": "code",
   "execution_count": 31,
   "metadata": {},
   "outputs": [
    {
     "data": {
      "text/plain": [
       "69    2\n",
       "Name: Letter repetition, dtype: int64"
      ]
     },
     "execution_count": 31,
     "metadata": {},
     "output_type": "execute_result"
    }
   ],
   "source": [
    "df[df['Word'] == 'mummy']['Letter repetition']"
   ]
  },
  {
   "cell_type": "markdown",
   "metadata": {},
   "source": [
    "#### Transform date column"
   ]
  },
  {
   "cell_type": "code",
   "execution_count": 32,
   "metadata": {},
   "outputs": [
    {
     "name": "stdout",
     "output_type": "stream",
     "text": [
      "Index(['Word', 'Number of reported results', 'Number in hard mode', '1 try',\n",
      "       '2 tries', '3 tries', '4 tries', '5 tries', '6 tries',\n",
      "       '7 or more tries (X)',\n",
      "       ...\n",
      "       'Day_22', 'Day_23', 'Day_24', 'Day_25', 'Day_26', 'Day_27', 'Day_28',\n",
      "       'Day_29', 'Day_30', 'Day_31'],\n",
      "      dtype='object', length=108)\n"
     ]
    }
   ],
   "source": [
    "def encode_date(my_df):\n",
    "  my_df['Date'] = pd.to_datetime(my_df['Date'])\n",
    "\n",
    "  my_df['Month'] = my_df['Date'].dt.month\n",
    "  my_df['Day of week'] = my_df['Date'].dt.dayofweek  # Monday=0, Sunday=6\n",
    "  my_df['Year'] = my_df['Date'].dt.year\n",
    "  my_df['Day'] = my_df['Date'].dt.day\n",
    "\n",
    "  my_df = pd.get_dummies(my_df, columns=['Month', 'Day of week', 'Day'])\n",
    "  my_df = my_df.drop(['Date'], axis=1)\n",
    "\n",
    "  return my_df\n",
    "\n",
    "df = encode_date(df)\n",
    "print(df.columns)"
   ]
  },
  {
   "cell_type": "code",
   "execution_count": 33,
   "metadata": {},
   "outputs": [
    {
     "name": "stdout",
     "output_type": "stream",
     "text": [
      "108\n"
     ]
    }
   ],
   "source": [
    "print(len(df.columns))"
   ]
  },
  {
   "cell_type": "markdown",
   "metadata": {},
   "source": [
    "#### Create Model"
   ]
  },
  {
   "cell_type": "code",
   "execution_count": 34,
   "metadata": {},
   "outputs": [
    {
     "name": "stdout",
     "output_type": "stream",
     "text": [
      "RMSE: 4.936578040815414\n"
     ]
    }
   ],
   "source": [
    "X = df.drop(columns=['1 try', '2 tries', '3 tries', '4 tries', '5 tries', '6 tries', '7 or more tries (X)', 'Word'], axis=1)\n",
    "y = df[['1 try', '2 tries', '3 tries', '4 tries', '5 tries', '6 tries', '7 or more tries (X)']]\n",
    "\n",
    "# Save features for later encoding\n",
    "feature_columns = X.columns.tolist()\n",
    "\n",
    "# Split the data\n",
    "X_train, X_test, y_train, y_test = train_test_split(X, y, test_size=0.2, random_state=43)\n",
    "\n",
    "# Initialize the model\n",
    "xgb = XGBRegressor(objective='reg:squarederror', eval_metric='rmse')\n",
    "\n",
    "# Wrap the model with MultiOutputRegressor\n",
    "multi_output_model = MultiOutputRegressor(xgb)\n",
    "\n",
    "# Train the model\n",
    "multi_output_model.fit(X_train, y_train)\n",
    "\n",
    "# Predict the distribution\n",
    "y_pred = multi_output_model.predict(X_test)\n",
    "\n",
    "# Convert predictions to percentages\n",
    "y_pred_percentage = (y_pred.T / y_pred.sum(axis=1)).T * 100\n",
    "\n",
    "print(f'RMSE: {root_mean_squared_error(y_test, y_pred)}')\n",
    "\n",
    "# r2_values = {}\n",
    "# for i, target in enumerate(y.columns):\n",
    "#     r2_values[target] = r2_score(y_test.iloc[:, i], y_pred[:, i])\n",
    "#     print(f\"R-squared for {target}: {r2_values[target]:.4f}\")\n",
    "\n",
    "# mean_r2 = np.mean(list(r2_values.values()))\n",
    "# print(f\"Mean R-squared: {mean_r2:.4f}\")\n",
    "\n",
    "# test_length = len(y_pred)\n",
    "\n",
    "# for key in r2_values:\n",
    "#     r2_values[key] = (1 - r2_values[key]) * (test_length - 1) / (test_length - len(df.columns) - 1)\n",
    "#     print(r2_values[key])\n"
   ]
  },
  {
   "cell_type": "code",
   "execution_count": 35,
   "metadata": {},
   "outputs": [
    {
     "data": {
      "application/vnd.plotly.v1+json": {
       "config": {
        "plotlyServerURL": "https://plot.ly"
       },
       "data": [
        {
         "alignmentgroup": "True",
         "hovertemplate": "Type=Actual_1_try<br>Word=%{x}<br>Value=%{y}<extra></extra>",
         "legendgroup": "Actual_1_try",
         "marker": {
          "color": "#636efa",
          "pattern": {
           "shape": ""
          }
         },
         "name": "Actual_1_try",
         "offsetgroup": "Actual_1_try",
         "orientation": "v",
         "showlegend": true,
         "textposition": "auto",
         "type": "bar",
         "x": [
          "mummy",
          "slosh",
          "gawky",
          "watch",
          "cater"
         ],
         "xaxis": "x",
         "y": [
          0,
          0,
          0,
          1,
          1
         ],
         "yaxis": "y"
        },
        {
         "alignmentgroup": "True",
         "hovertemplate": "Type=Predicted_1_try<br>Word=%{x}<br>Value=%{y}<extra></extra>",
         "legendgroup": "Predicted_1_try",
         "marker": {
          "color": "#EF553B",
          "pattern": {
           "shape": ""
          }
         },
         "name": "Predicted_1_try",
         "offsetgroup": "Predicted_1_try",
         "orientation": "v",
         "showlegend": true,
         "textposition": "auto",
         "type": "bar",
         "x": [
          "mummy",
          "slosh",
          "gawky",
          "watch",
          "cater"
         ],
         "xaxis": "x",
         "y": [
          -0.09988302737474442,
          0.5419376492500305,
          -0.08743109554052353,
          1.098292589187622,
          1.0628091096878052
         ],
         "yaxis": "y"
        },
        {
         "alignmentgroup": "True",
         "hovertemplate": "Type=Actual_2_tries<br>Word=%{x}<br>Value=%{y}<extra></extra>",
         "legendgroup": "Actual_2_tries",
         "marker": {
          "color": "#00cc96",
          "pattern": {
           "shape": ""
          }
         },
         "name": "Actual_2_tries",
         "offsetgroup": "Actual_2_tries",
         "orientation": "v",
         "showlegend": true,
         "textposition": "auto",
         "type": "bar",
         "x": [
          "mummy",
          "slosh",
          "gawky",
          "watch",
          "cater"
         ],
         "xaxis": "x",
         "y": [
          1,
          2,
          1,
          6,
          7
         ],
         "yaxis": "y"
        },
        {
         "alignmentgroup": "True",
         "hovertemplate": "Type=Predicted_2_tries<br>Word=%{x}<br>Value=%{y}<extra></extra>",
         "legendgroup": "Predicted_2_tries",
         "marker": {
          "color": "#ab63fa",
          "pattern": {
           "shape": ""
          }
         },
         "name": "Predicted_2_tries",
         "offsetgroup": "Predicted_2_tries",
         "orientation": "v",
         "showlegend": true,
         "textposition": "auto",
         "type": "bar",
         "x": [
          "mummy",
          "slosh",
          "gawky",
          "watch",
          "cater"
         ],
         "xaxis": "x",
         "y": [
          1.703575849533081,
          2.15608549118042,
          1.4914405345916748,
          7.471778869628906,
          10.25632381439209
         ],
         "yaxis": "y"
        },
        {
         "alignmentgroup": "True",
         "hovertemplate": "Type=Actual_3_tries<br>Word=%{x}<br>Value=%{y}<extra></extra>",
         "legendgroup": "Actual_3_tries",
         "marker": {
          "color": "#FFA15A",
          "pattern": {
           "shape": ""
          }
         },
         "name": "Actual_3_tries",
         "offsetgroup": "Actual_3_tries",
         "orientation": "v",
         "showlegend": true,
         "textposition": "auto",
         "type": "bar",
         "x": [
          "mummy",
          "slosh",
          "gawky",
          "watch",
          "cater"
         ],
         "xaxis": "x",
         "y": [
          4,
          19,
          5,
          14,
          19
         ],
         "yaxis": "y"
        },
        {
         "alignmentgroup": "True",
         "hovertemplate": "Type=Predicted_3_tries<br>Word=%{x}<br>Value=%{y}<extra></extra>",
         "legendgroup": "Predicted_3_tries",
         "marker": {
          "color": "#19d3f3",
          "pattern": {
           "shape": ""
          }
         },
         "name": "Predicted_3_tries",
         "offsetgroup": "Predicted_3_tries",
         "orientation": "v",
         "showlegend": true,
         "textposition": "auto",
         "type": "bar",
         "x": [
          "mummy",
          "slosh",
          "gawky",
          "watch",
          "cater"
         ],
         "xaxis": "x",
         "y": [
          9.269515037536621,
          12.111513137817383,
          14.18903636932373,
          29.347990036010742,
          28.4776611328125
         ],
         "yaxis": "y"
        },
        {
         "alignmentgroup": "True",
         "hovertemplate": "Type=Actual_4_tries<br>Word=%{x}<br>Value=%{y}<extra></extra>",
         "legendgroup": "Actual_4_tries",
         "marker": {
          "color": "#FF6692",
          "pattern": {
           "shape": ""
          }
         },
         "name": "Actual_4_tries",
         "offsetgroup": "Actual_4_tries",
         "orientation": "v",
         "showlegend": true,
         "textposition": "auto",
         "type": "bar",
         "x": [
          "mummy",
          "slosh",
          "gawky",
          "watch",
          "cater"
         ],
         "xaxis": "x",
         "y": [
          14,
          36,
          22,
          18,
          22
         ],
         "yaxis": "y"
        },
        {
         "alignmentgroup": "True",
         "hovertemplate": "Type=Predicted_4_tries<br>Word=%{x}<br>Value=%{y}<extra></extra>",
         "legendgroup": "Predicted_4_tries",
         "marker": {
          "color": "#B6E880",
          "pattern": {
           "shape": ""
          }
         },
         "name": "Predicted_4_tries",
         "offsetgroup": "Predicted_4_tries",
         "orientation": "v",
         "showlegend": true,
         "textposition": "auto",
         "type": "bar",
         "x": [
          "mummy",
          "slosh",
          "gawky",
          "watch",
          "cater"
         ],
         "xaxis": "x",
         "y": [
          35.05774688720703,
          27.43861198425293,
          26.547019958496094,
          26.427278518676758,
          31.596248626708984
         ],
         "yaxis": "y"
        },
        {
         "alignmentgroup": "True",
         "hovertemplate": "Type=Actual_5_tries<br>Word=%{x}<br>Value=%{y}<extra></extra>",
         "legendgroup": "Actual_5_tries",
         "marker": {
          "color": "#FF97FF",
          "pattern": {
           "shape": ""
          }
         },
         "name": "Actual_5_tries",
         "offsetgroup": "Actual_5_tries",
         "orientation": "v",
         "showlegend": true,
         "textposition": "auto",
         "type": "bar",
         "x": [
          "mummy",
          "slosh",
          "gawky",
          "watch",
          "cater"
         ],
         "xaxis": "x",
         "y": [
          27,
          27,
          33,
          17,
          19
         ],
         "yaxis": "y"
        },
        {
         "alignmentgroup": "True",
         "hovertemplate": "Type=Predicted_5_tries<br>Word=%{x}<br>Value=%{y}<extra></extra>",
         "legendgroup": "Predicted_5_tries",
         "marker": {
          "color": "#FECB52",
          "pattern": {
           "shape": ""
          }
         },
         "name": "Predicted_5_tries",
         "offsetgroup": "Predicted_5_tries",
         "orientation": "v",
         "showlegend": true,
         "textposition": "auto",
         "type": "bar",
         "x": [
          "mummy",
          "slosh",
          "gawky",
          "watch",
          "cater"
         ],
         "xaxis": "x",
         "y": [
          34.18482971191406,
          26.38676643371582,
          30.920665740966797,
          19.844655990600586,
          22.16012191772461
         ],
         "yaxis": "y"
        },
        {
         "alignmentgroup": "True",
         "hovertemplate": "Type=Actual_6_tries<br>Word=%{x}<br>Value=%{y}<extra></extra>",
         "legendgroup": "Actual_6_tries",
         "marker": {
          "color": "#636efa",
          "pattern": {
           "shape": ""
          }
         },
         "name": "Actual_6_tries",
         "offsetgroup": "Actual_6_tries",
         "orientation": "v",
         "showlegend": true,
         "textposition": "auto",
         "type": "bar",
         "x": [
          "mummy",
          "slosh",
          "gawky",
          "watch",
          "cater"
         ],
         "xaxis": "x",
         "y": [
          37,
          13,
          28,
          24,
          18
         ],
         "yaxis": "y"
        },
        {
         "alignmentgroup": "True",
         "hovertemplate": "Type=Predicted_6_tries<br>Word=%{x}<br>Value=%{y}<extra></extra>",
         "legendgroup": "Predicted_6_tries",
         "marker": {
          "color": "#EF553B",
          "pattern": {
           "shape": ""
          }
         },
         "name": "Predicted_6_tries",
         "offsetgroup": "Predicted_6_tries",
         "orientation": "v",
         "showlegend": true,
         "textposition": "auto",
         "type": "bar",
         "x": [
          "mummy",
          "slosh",
          "gawky",
          "watch",
          "cater"
         ],
         "xaxis": "x",
         "y": [
          17.317129135131836,
          19.060962677001953,
          15.085376739501953,
          10.115269660949707,
          11.373955726623535
         ],
         "yaxis": "y"
        },
        {
         "alignmentgroup": "True",
         "hovertemplate": "Type=Actual_7_or_more_tries<br>Word=%{x}<br>Value=%{y}<extra></extra>",
         "legendgroup": "Actual_7_or_more_tries",
         "marker": {
          "color": "#00cc96",
          "pattern": {
           "shape": ""
          }
         },
         "name": "Actual_7_or_more_tries",
         "offsetgroup": "Actual_7_or_more_tries",
         "orientation": "v",
         "showlegend": true,
         "textposition": "auto",
         "type": "bar",
         "x": [
          "mummy",
          "slosh",
          "gawky",
          "watch",
          "cater"
         ],
         "xaxis": "x",
         "y": [
          18,
          2,
          10,
          20,
          15
         ],
         "yaxis": "y"
        },
        {
         "alignmentgroup": "True",
         "hovertemplate": "Type=Predicted_7_or_more_tries<br>Word=%{x}<br>Value=%{y}<extra></extra>",
         "legendgroup": "Predicted_7_or_more_tries",
         "marker": {
          "color": "#ab63fa",
          "pattern": {
           "shape": ""
          }
         },
         "name": "Predicted_7_or_more_tries",
         "offsetgroup": "Predicted_7_or_more_tries",
         "orientation": "v",
         "showlegend": true,
         "textposition": "auto",
         "type": "bar",
         "x": [
          "mummy",
          "slosh",
          "gawky",
          "watch",
          "cater"
         ],
         "xaxis": "x",
         "y": [
          2.3362720012664795,
          45.201576232910156,
          45.26813888549805,
          4.6839280128479,
          3.111886739730835
         ],
         "yaxis": "y"
        },
        {
         "alignmentgroup": "True",
         "hovertemplate": "Type=Total_Error<br>Word=%{x}<br>Value=%{y}<extra></extra>",
         "legendgroup": "Total_Error",
         "marker": {
          "color": "#FFA15A",
          "pattern": {
           "shape": ""
          }
         },
         "name": "Total_Error",
         "offsetgroup": "Total_Error",
         "orientation": "v",
         "showlegend": true,
         "textposition": "auto",
         "type": "bar",
         "x": [
          "mummy",
          "slosh",
          "gawky",
          "watch",
          "cater"
         ],
         "xaxis": "x",
         "y": [
          69.66214937716722,
          66.02367049455643,
          64.57702436298132,
          57.39079833030701,
          44.06732213497162
         ],
         "yaxis": "y"
        }
       ],
       "layout": {
        "barmode": "group",
        "legend": {
         "title": {
          "text": "Type"
         },
         "tracegroupgap": 0
        },
        "template": {
         "data": {
          "bar": [
           {
            "error_x": {
             "color": "#2a3f5f"
            },
            "error_y": {
             "color": "#2a3f5f"
            },
            "marker": {
             "line": {
              "color": "#E5ECF6",
              "width": 0.5
             },
             "pattern": {
              "fillmode": "overlay",
              "size": 10,
              "solidity": 0.2
             }
            },
            "type": "bar"
           }
          ],
          "barpolar": [
           {
            "marker": {
             "line": {
              "color": "#E5ECF6",
              "width": 0.5
             },
             "pattern": {
              "fillmode": "overlay",
              "size": 10,
              "solidity": 0.2
             }
            },
            "type": "barpolar"
           }
          ],
          "carpet": [
           {
            "aaxis": {
             "endlinecolor": "#2a3f5f",
             "gridcolor": "white",
             "linecolor": "white",
             "minorgridcolor": "white",
             "startlinecolor": "#2a3f5f"
            },
            "baxis": {
             "endlinecolor": "#2a3f5f",
             "gridcolor": "white",
             "linecolor": "white",
             "minorgridcolor": "white",
             "startlinecolor": "#2a3f5f"
            },
            "type": "carpet"
           }
          ],
          "choropleth": [
           {
            "colorbar": {
             "outlinewidth": 0,
             "ticks": ""
            },
            "type": "choropleth"
           }
          ],
          "contour": [
           {
            "colorbar": {
             "outlinewidth": 0,
             "ticks": ""
            },
            "colorscale": [
             [
              0,
              "#0d0887"
             ],
             [
              0.1111111111111111,
              "#46039f"
             ],
             [
              0.2222222222222222,
              "#7201a8"
             ],
             [
              0.3333333333333333,
              "#9c179e"
             ],
             [
              0.4444444444444444,
              "#bd3786"
             ],
             [
              0.5555555555555556,
              "#d8576b"
             ],
             [
              0.6666666666666666,
              "#ed7953"
             ],
             [
              0.7777777777777778,
              "#fb9f3a"
             ],
             [
              0.8888888888888888,
              "#fdca26"
             ],
             [
              1,
              "#f0f921"
             ]
            ],
            "type": "contour"
           }
          ],
          "contourcarpet": [
           {
            "colorbar": {
             "outlinewidth": 0,
             "ticks": ""
            },
            "type": "contourcarpet"
           }
          ],
          "heatmap": [
           {
            "colorbar": {
             "outlinewidth": 0,
             "ticks": ""
            },
            "colorscale": [
             [
              0,
              "#0d0887"
             ],
             [
              0.1111111111111111,
              "#46039f"
             ],
             [
              0.2222222222222222,
              "#7201a8"
             ],
             [
              0.3333333333333333,
              "#9c179e"
             ],
             [
              0.4444444444444444,
              "#bd3786"
             ],
             [
              0.5555555555555556,
              "#d8576b"
             ],
             [
              0.6666666666666666,
              "#ed7953"
             ],
             [
              0.7777777777777778,
              "#fb9f3a"
             ],
             [
              0.8888888888888888,
              "#fdca26"
             ],
             [
              1,
              "#f0f921"
             ]
            ],
            "type": "heatmap"
           }
          ],
          "heatmapgl": [
           {
            "colorbar": {
             "outlinewidth": 0,
             "ticks": ""
            },
            "colorscale": [
             [
              0,
              "#0d0887"
             ],
             [
              0.1111111111111111,
              "#46039f"
             ],
             [
              0.2222222222222222,
              "#7201a8"
             ],
             [
              0.3333333333333333,
              "#9c179e"
             ],
             [
              0.4444444444444444,
              "#bd3786"
             ],
             [
              0.5555555555555556,
              "#d8576b"
             ],
             [
              0.6666666666666666,
              "#ed7953"
             ],
             [
              0.7777777777777778,
              "#fb9f3a"
             ],
             [
              0.8888888888888888,
              "#fdca26"
             ],
             [
              1,
              "#f0f921"
             ]
            ],
            "type": "heatmapgl"
           }
          ],
          "histogram": [
           {
            "marker": {
             "pattern": {
              "fillmode": "overlay",
              "size": 10,
              "solidity": 0.2
             }
            },
            "type": "histogram"
           }
          ],
          "histogram2d": [
           {
            "colorbar": {
             "outlinewidth": 0,
             "ticks": ""
            },
            "colorscale": [
             [
              0,
              "#0d0887"
             ],
             [
              0.1111111111111111,
              "#46039f"
             ],
             [
              0.2222222222222222,
              "#7201a8"
             ],
             [
              0.3333333333333333,
              "#9c179e"
             ],
             [
              0.4444444444444444,
              "#bd3786"
             ],
             [
              0.5555555555555556,
              "#d8576b"
             ],
             [
              0.6666666666666666,
              "#ed7953"
             ],
             [
              0.7777777777777778,
              "#fb9f3a"
             ],
             [
              0.8888888888888888,
              "#fdca26"
             ],
             [
              1,
              "#f0f921"
             ]
            ],
            "type": "histogram2d"
           }
          ],
          "histogram2dcontour": [
           {
            "colorbar": {
             "outlinewidth": 0,
             "ticks": ""
            },
            "colorscale": [
             [
              0,
              "#0d0887"
             ],
             [
              0.1111111111111111,
              "#46039f"
             ],
             [
              0.2222222222222222,
              "#7201a8"
             ],
             [
              0.3333333333333333,
              "#9c179e"
             ],
             [
              0.4444444444444444,
              "#bd3786"
             ],
             [
              0.5555555555555556,
              "#d8576b"
             ],
             [
              0.6666666666666666,
              "#ed7953"
             ],
             [
              0.7777777777777778,
              "#fb9f3a"
             ],
             [
              0.8888888888888888,
              "#fdca26"
             ],
             [
              1,
              "#f0f921"
             ]
            ],
            "type": "histogram2dcontour"
           }
          ],
          "mesh3d": [
           {
            "colorbar": {
             "outlinewidth": 0,
             "ticks": ""
            },
            "type": "mesh3d"
           }
          ],
          "parcoords": [
           {
            "line": {
             "colorbar": {
              "outlinewidth": 0,
              "ticks": ""
             }
            },
            "type": "parcoords"
           }
          ],
          "pie": [
           {
            "automargin": true,
            "type": "pie"
           }
          ],
          "scatter": [
           {
            "fillpattern": {
             "fillmode": "overlay",
             "size": 10,
             "solidity": 0.2
            },
            "type": "scatter"
           }
          ],
          "scatter3d": [
           {
            "line": {
             "colorbar": {
              "outlinewidth": 0,
              "ticks": ""
             }
            },
            "marker": {
             "colorbar": {
              "outlinewidth": 0,
              "ticks": ""
             }
            },
            "type": "scatter3d"
           }
          ],
          "scattercarpet": [
           {
            "marker": {
             "colorbar": {
              "outlinewidth": 0,
              "ticks": ""
             }
            },
            "type": "scattercarpet"
           }
          ],
          "scattergeo": [
           {
            "marker": {
             "colorbar": {
              "outlinewidth": 0,
              "ticks": ""
             }
            },
            "type": "scattergeo"
           }
          ],
          "scattergl": [
           {
            "marker": {
             "colorbar": {
              "outlinewidth": 0,
              "ticks": ""
             }
            },
            "type": "scattergl"
           }
          ],
          "scattermapbox": [
           {
            "marker": {
             "colorbar": {
              "outlinewidth": 0,
              "ticks": ""
             }
            },
            "type": "scattermapbox"
           }
          ],
          "scatterpolar": [
           {
            "marker": {
             "colorbar": {
              "outlinewidth": 0,
              "ticks": ""
             }
            },
            "type": "scatterpolar"
           }
          ],
          "scatterpolargl": [
           {
            "marker": {
             "colorbar": {
              "outlinewidth": 0,
              "ticks": ""
             }
            },
            "type": "scatterpolargl"
           }
          ],
          "scatterternary": [
           {
            "marker": {
             "colorbar": {
              "outlinewidth": 0,
              "ticks": ""
             }
            },
            "type": "scatterternary"
           }
          ],
          "surface": [
           {
            "colorbar": {
             "outlinewidth": 0,
             "ticks": ""
            },
            "colorscale": [
             [
              0,
              "#0d0887"
             ],
             [
              0.1111111111111111,
              "#46039f"
             ],
             [
              0.2222222222222222,
              "#7201a8"
             ],
             [
              0.3333333333333333,
              "#9c179e"
             ],
             [
              0.4444444444444444,
              "#bd3786"
             ],
             [
              0.5555555555555556,
              "#d8576b"
             ],
             [
              0.6666666666666666,
              "#ed7953"
             ],
             [
              0.7777777777777778,
              "#fb9f3a"
             ],
             [
              0.8888888888888888,
              "#fdca26"
             ],
             [
              1,
              "#f0f921"
             ]
            ],
            "type": "surface"
           }
          ],
          "table": [
           {
            "cells": {
             "fill": {
              "color": "#EBF0F8"
             },
             "line": {
              "color": "white"
             }
            },
            "header": {
             "fill": {
              "color": "#C8D4E3"
             },
             "line": {
              "color": "white"
             }
            },
            "type": "table"
           }
          ]
         },
         "layout": {
          "annotationdefaults": {
           "arrowcolor": "#2a3f5f",
           "arrowhead": 0,
           "arrowwidth": 1
          },
          "autotypenumbers": "strict",
          "coloraxis": {
           "colorbar": {
            "outlinewidth": 0,
            "ticks": ""
           }
          },
          "colorscale": {
           "diverging": [
            [
             0,
             "#8e0152"
            ],
            [
             0.1,
             "#c51b7d"
            ],
            [
             0.2,
             "#de77ae"
            ],
            [
             0.3,
             "#f1b6da"
            ],
            [
             0.4,
             "#fde0ef"
            ],
            [
             0.5,
             "#f7f7f7"
            ],
            [
             0.6,
             "#e6f5d0"
            ],
            [
             0.7,
             "#b8e186"
            ],
            [
             0.8,
             "#7fbc41"
            ],
            [
             0.9,
             "#4d9221"
            ],
            [
             1,
             "#276419"
            ]
           ],
           "sequential": [
            [
             0,
             "#0d0887"
            ],
            [
             0.1111111111111111,
             "#46039f"
            ],
            [
             0.2222222222222222,
             "#7201a8"
            ],
            [
             0.3333333333333333,
             "#9c179e"
            ],
            [
             0.4444444444444444,
             "#bd3786"
            ],
            [
             0.5555555555555556,
             "#d8576b"
            ],
            [
             0.6666666666666666,
             "#ed7953"
            ],
            [
             0.7777777777777778,
             "#fb9f3a"
            ],
            [
             0.8888888888888888,
             "#fdca26"
            ],
            [
             1,
             "#f0f921"
            ]
           ],
           "sequentialminus": [
            [
             0,
             "#0d0887"
            ],
            [
             0.1111111111111111,
             "#46039f"
            ],
            [
             0.2222222222222222,
             "#7201a8"
            ],
            [
             0.3333333333333333,
             "#9c179e"
            ],
            [
             0.4444444444444444,
             "#bd3786"
            ],
            [
             0.5555555555555556,
             "#d8576b"
            ],
            [
             0.6666666666666666,
             "#ed7953"
            ],
            [
             0.7777777777777778,
             "#fb9f3a"
            ],
            [
             0.8888888888888888,
             "#fdca26"
            ],
            [
             1,
             "#f0f921"
            ]
           ]
          },
          "colorway": [
           "#636efa",
           "#EF553B",
           "#00cc96",
           "#ab63fa",
           "#FFA15A",
           "#19d3f3",
           "#FF6692",
           "#B6E880",
           "#FF97FF",
           "#FECB52"
          ],
          "font": {
           "color": "#2a3f5f"
          },
          "geo": {
           "bgcolor": "white",
           "lakecolor": "white",
           "landcolor": "#E5ECF6",
           "showlakes": true,
           "showland": true,
           "subunitcolor": "white"
          },
          "hoverlabel": {
           "align": "left"
          },
          "hovermode": "closest",
          "mapbox": {
           "style": "light"
          },
          "paper_bgcolor": "white",
          "plot_bgcolor": "#E5ECF6",
          "polar": {
           "angularaxis": {
            "gridcolor": "white",
            "linecolor": "white",
            "ticks": ""
           },
           "bgcolor": "#E5ECF6",
           "radialaxis": {
            "gridcolor": "white",
            "linecolor": "white",
            "ticks": ""
           }
          },
          "scene": {
           "xaxis": {
            "backgroundcolor": "#E5ECF6",
            "gridcolor": "white",
            "gridwidth": 2,
            "linecolor": "white",
            "showbackground": true,
            "ticks": "",
            "zerolinecolor": "white"
           },
           "yaxis": {
            "backgroundcolor": "#E5ECF6",
            "gridcolor": "white",
            "gridwidth": 2,
            "linecolor": "white",
            "showbackground": true,
            "ticks": "",
            "zerolinecolor": "white"
           },
           "zaxis": {
            "backgroundcolor": "#E5ECF6",
            "gridcolor": "white",
            "gridwidth": 2,
            "linecolor": "white",
            "showbackground": true,
            "ticks": "",
            "zerolinecolor": "white"
           }
          },
          "shapedefaults": {
           "line": {
            "color": "#2a3f5f"
           }
          },
          "ternary": {
           "aaxis": {
            "gridcolor": "white",
            "linecolor": "white",
            "ticks": ""
           },
           "baxis": {
            "gridcolor": "white",
            "linecolor": "white",
            "ticks": ""
           },
           "bgcolor": "#E5ECF6",
           "caxis": {
            "gridcolor": "white",
            "linecolor": "white",
            "ticks": ""
           }
          },
          "title": {
           "x": 0.05
          },
          "xaxis": {
           "automargin": true,
           "gridcolor": "white",
           "linecolor": "white",
           "ticks": "",
           "title": {
            "standoff": 15
           },
           "zerolinecolor": "white",
           "zerolinewidth": 2
          },
          "yaxis": {
           "automargin": true,
           "gridcolor": "white",
           "linecolor": "white",
           "ticks": "",
           "title": {
            "standoff": 15
           },
           "zerolinecolor": "white",
           "zerolinewidth": 2
          }
         }
        },
        "title": {
         "text": "Actual vs Predicted Values for the 5 Worst-Performing Predictions"
        },
        "xaxis": {
         "anchor": "y",
         "domain": [
          0,
          1
         ],
         "title": {
          "text": "Word"
         }
        },
        "yaxis": {
         "anchor": "x",
         "domain": [
          0,
          1
         ],
         "title": {
          "text": "Value"
         }
        }
       }
      }
     },
     "metadata": {},
     "output_type": "display_data"
    }
   ],
   "source": [
    "import plotly.express as px\n",
    "import pandas as pd\n",
    "\n",
    "# Prepare data for plotting\n",
    "results = pd.DataFrame({\n",
    "    'Word': df.loc[y_test.index, 'Word'],\n",
    "    'Actual_1_try': y_test.iloc[:, 0],\n",
    "    'Predicted_1_try': y_pred[:, 0],\n",
    "    'Actual_2_tries': y_test.iloc[:, 1],\n",
    "    'Predicted_2_tries': y_pred[:, 1],\n",
    "    'Actual_3_tries': y_test.iloc[:, 2],\n",
    "    'Predicted_3_tries': y_pred[:, 2],\n",
    "    'Actual_4_tries': y_test.iloc[:, 3],\n",
    "    'Predicted_4_tries': y_pred[:, 3],\n",
    "    'Actual_5_tries': y_test.iloc[:, 4],\n",
    "    'Predicted_5_tries': y_pred[:, 4],\n",
    "    'Actual_6_tries': y_test.iloc[:, 5],\n",
    "    'Predicted_6_tries': y_pred[:, 5],\n",
    "    'Actual_7_or_more_tries': y_test.iloc[:, 6],\n",
    "    'Predicted_7_or_more_tries': y_pred[:, 6]\n",
    "})\n",
    "\n",
    "results['Total_Error'] = np.abs(results['Actual_1_try'] - results['Predicted_1_try']) + \\\n",
    "                         np.abs(results['Actual_2_tries'] - results['Predicted_2_tries']) + \\\n",
    "                         np.abs(results['Actual_3_tries'] - results['Predicted_3_tries']) + \\\n",
    "                         np.abs(results['Actual_4_tries'] - results['Predicted_4_tries']) + \\\n",
    "                         np.abs(results['Actual_5_tries'] - results['Predicted_5_tries']) + \\\n",
    "                         np.abs(results['Actual_6_tries'] - results['Predicted_6_tries']) + \\\n",
    "                         np.abs(results['Actual_7_or_more_tries'] - results['Predicted_7_or_more_tries'])\n",
    "\n",
    "worst_results = results.nlargest(5, 'Total_Error')\n",
    "\n",
    "worst_results_melted = worst_results.melt(id_vars='Word', var_name='Type', value_name='Value')\n",
    "\n",
    "# Create a grouped bar plot\n",
    "fig = px.bar(worst_results_melted, x='Word', y='Value', color='Type', barmode='group',\n",
    "             title='Actual vs Predicted Values for the 5 Worst-Performing Predictions')\n",
    "\n",
    "# Show plot\n",
    "fig.show()"
   ]
  },
  {
   "cell_type": "markdown",
   "metadata": {},
   "source": [
    "#### Feature Importances"
   ]
  },
  {
   "cell_type": "code",
   "execution_count": 36,
   "metadata": {},
   "outputs": [
    {
     "data": {
      "text/html": [
       "<div>\n",
       "<style scoped>\n",
       "    .dataframe tbody tr th:only-of-type {\n",
       "        vertical-align: middle;\n",
       "    }\n",
       "\n",
       "    .dataframe tbody tr th {\n",
       "        vertical-align: top;\n",
       "    }\n",
       "\n",
       "    .dataframe thead th {\n",
       "        text-align: right;\n",
       "    }\n",
       "</style>\n",
       "<table border=\"1\" class=\"dataframe\">\n",
       "  <thead>\n",
       "    <tr style=\"text-align: right;\">\n",
       "      <th></th>\n",
       "      <th>Importance</th>\n",
       "    </tr>\n",
       "  </thead>\n",
       "  <tbody>\n",
       "    <tr>\n",
       "      <th>Day_24</th>\n",
       "      <td>0.251910</td>\n",
       "    </tr>\n",
       "    <tr>\n",
       "      <th>Dale_Chall_Readability_Score</th>\n",
       "      <td>0.136836</td>\n",
       "    </tr>\n",
       "    <tr>\n",
       "      <th>Letter repetition</th>\n",
       "      <td>0.050210</td>\n",
       "    </tr>\n",
       "    <tr>\n",
       "      <th>Month_1</th>\n",
       "      <td>0.047926</td>\n",
       "    </tr>\n",
       "    <tr>\n",
       "      <th>Flesch_Reading_Ease</th>\n",
       "      <td>0.038757</td>\n",
       "    </tr>\n",
       "    <tr>\n",
       "      <th>i</th>\n",
       "      <td>0.030387</td>\n",
       "    </tr>\n",
       "    <tr>\n",
       "      <th>m</th>\n",
       "      <td>0.030003</td>\n",
       "    </tr>\n",
       "    <tr>\n",
       "      <th>Day of week_5</th>\n",
       "      <td>0.026625</td>\n",
       "    </tr>\n",
       "    <tr>\n",
       "      <th>Day_5</th>\n",
       "      <td>0.023206</td>\n",
       "    </tr>\n",
       "    <tr>\n",
       "      <th>Month_10</th>\n",
       "      <td>0.022615</td>\n",
       "    </tr>\n",
       "    <tr>\n",
       "      <th>Number of reported results</th>\n",
       "      <td>0.022423</td>\n",
       "    </tr>\n",
       "    <tr>\n",
       "      <th>Scrabble score</th>\n",
       "      <td>0.021408</td>\n",
       "    </tr>\n",
       "    <tr>\n",
       "      <th>Words 1 away</th>\n",
       "      <td>0.020612</td>\n",
       "    </tr>\n",
       "    <tr>\n",
       "      <th>Words 2 away</th>\n",
       "      <td>0.019607</td>\n",
       "    </tr>\n",
       "    <tr>\n",
       "      <th>Day_30</th>\n",
       "      <td>0.017240</td>\n",
       "    </tr>\n",
       "    <tr>\n",
       "      <th>Vowel consonant ratio</th>\n",
       "      <td>0.016316</td>\n",
       "    </tr>\n",
       "    <tr>\n",
       "      <th>s</th>\n",
       "      <td>0.016223</td>\n",
       "    </tr>\n",
       "    <tr>\n",
       "      <th>g</th>\n",
       "      <td>0.015513</td>\n",
       "    </tr>\n",
       "    <tr>\n",
       "      <th>Day_14</th>\n",
       "      <td>0.012832</td>\n",
       "    </tr>\n",
       "    <tr>\n",
       "      <th>Day_19</th>\n",
       "      <td>0.012798</td>\n",
       "    </tr>\n",
       "    <tr>\n",
       "      <th>Number in hard mode</th>\n",
       "      <td>0.011785</td>\n",
       "    </tr>\n",
       "    <tr>\n",
       "      <th>d</th>\n",
       "      <td>0.011669</td>\n",
       "    </tr>\n",
       "    <tr>\n",
       "      <th>Month_6</th>\n",
       "      <td>0.009822</td>\n",
       "    </tr>\n",
       "    <tr>\n",
       "      <th>t</th>\n",
       "      <td>0.009576</td>\n",
       "    </tr>\n",
       "    <tr>\n",
       "      <th>Day_31</th>\n",
       "      <td>0.009312</td>\n",
       "    </tr>\n",
       "    <tr>\n",
       "      <th>Day_10</th>\n",
       "      <td>0.008113</td>\n",
       "    </tr>\n",
       "    <tr>\n",
       "      <th>Frequency score</th>\n",
       "      <td>0.006923</td>\n",
       "    </tr>\n",
       "    <tr>\n",
       "      <th>Day_3</th>\n",
       "      <td>0.006709</td>\n",
       "    </tr>\n",
       "    <tr>\n",
       "      <th>Day_20</th>\n",
       "      <td>0.006574</td>\n",
       "    </tr>\n",
       "    <tr>\n",
       "      <th>Word category_JJ</th>\n",
       "      <td>0.006453</td>\n",
       "    </tr>\n",
       "    <tr>\n",
       "      <th>Day_9</th>\n",
       "      <td>0.005642</td>\n",
       "    </tr>\n",
       "    <tr>\n",
       "      <th>y</th>\n",
       "      <td>0.005046</td>\n",
       "    </tr>\n",
       "    <tr>\n",
       "      <th>h</th>\n",
       "      <td>0.004698</td>\n",
       "    </tr>\n",
       "    <tr>\n",
       "      <th>Difficult_Words</th>\n",
       "      <td>0.004633</td>\n",
       "    </tr>\n",
       "    <tr>\n",
       "      <th>Month_11</th>\n",
       "      <td>0.004569</td>\n",
       "    </tr>\n",
       "    <tr>\n",
       "      <th>e</th>\n",
       "      <td>0.004536</td>\n",
       "    </tr>\n",
       "    <tr>\n",
       "      <th>Day of week_1</th>\n",
       "      <td>0.004464</td>\n",
       "    </tr>\n",
       "    <tr>\n",
       "      <th>f</th>\n",
       "      <td>0.004426</td>\n",
       "    </tr>\n",
       "    <tr>\n",
       "      <th>Day_6</th>\n",
       "      <td>0.004020</td>\n",
       "    </tr>\n",
       "    <tr>\n",
       "      <th>l</th>\n",
       "      <td>0.003730</td>\n",
       "    </tr>\n",
       "    <tr>\n",
       "      <th>Day_25</th>\n",
       "      <td>0.003027</td>\n",
       "    </tr>\n",
       "    <tr>\n",
       "      <th>w</th>\n",
       "      <td>0.003014</td>\n",
       "    </tr>\n",
       "    <tr>\n",
       "      <th>Month_3</th>\n",
       "      <td>0.002426</td>\n",
       "    </tr>\n",
       "    <tr>\n",
       "      <th>a</th>\n",
       "      <td>0.002060</td>\n",
       "    </tr>\n",
       "    <tr>\n",
       "      <th>Day_4</th>\n",
       "      <td>0.001987</td>\n",
       "    </tr>\n",
       "    <tr>\n",
       "      <th>Month_4</th>\n",
       "      <td>0.001939</td>\n",
       "    </tr>\n",
       "    <tr>\n",
       "      <th>Common bigrams</th>\n",
       "      <td>0.001882</td>\n",
       "    </tr>\n",
       "    <tr>\n",
       "      <th>v</th>\n",
       "      <td>0.001503</td>\n",
       "    </tr>\n",
       "    <tr>\n",
       "      <th>Day of week_6</th>\n",
       "      <td>0.001413</td>\n",
       "    </tr>\n",
       "    <tr>\n",
       "      <th>r</th>\n",
       "      <td>0.001297</td>\n",
       "    </tr>\n",
       "    <tr>\n",
       "      <th>b</th>\n",
       "      <td>0.001041</td>\n",
       "    </tr>\n",
       "    <tr>\n",
       "      <th>z</th>\n",
       "      <td>0.001004</td>\n",
       "    </tr>\n",
       "    <tr>\n",
       "      <th>Day_28</th>\n",
       "      <td>0.000991</td>\n",
       "    </tr>\n",
       "    <tr>\n",
       "      <th>Day_13</th>\n",
       "      <td>0.000967</td>\n",
       "    </tr>\n",
       "    <tr>\n",
       "      <th>c</th>\n",
       "      <td>0.000950</td>\n",
       "    </tr>\n",
       "    <tr>\n",
       "      <th>o</th>\n",
       "      <td>0.000823</td>\n",
       "    </tr>\n",
       "    <tr>\n",
       "      <th>Day_17</th>\n",
       "      <td>0.000709</td>\n",
       "    </tr>\n",
       "    <tr>\n",
       "      <th>Day_2</th>\n",
       "      <td>0.000696</td>\n",
       "    </tr>\n",
       "    <tr>\n",
       "      <th>Month_5</th>\n",
       "      <td>0.000665</td>\n",
       "    </tr>\n",
       "    <tr>\n",
       "      <th>Day of week_3</th>\n",
       "      <td>0.000617</td>\n",
       "    </tr>\n",
       "    <tr>\n",
       "      <th>u</th>\n",
       "      <td>0.000566</td>\n",
       "    </tr>\n",
       "    <tr>\n",
       "      <th>p</th>\n",
       "      <td>0.000527</td>\n",
       "    </tr>\n",
       "    <tr>\n",
       "      <th>Day_12</th>\n",
       "      <td>0.000500</td>\n",
       "    </tr>\n",
       "    <tr>\n",
       "      <th>Day_18</th>\n",
       "      <td>0.000373</td>\n",
       "    </tr>\n",
       "    <tr>\n",
       "      <th>Word category_MD</th>\n",
       "      <td>0.000358</td>\n",
       "    </tr>\n",
       "    <tr>\n",
       "      <th>Day_21</th>\n",
       "      <td>0.000317</td>\n",
       "    </tr>\n",
       "    <tr>\n",
       "      <th>Day_27</th>\n",
       "      <td>0.000301</td>\n",
       "    </tr>\n",
       "    <tr>\n",
       "      <th>x</th>\n",
       "      <td>0.000248</td>\n",
       "    </tr>\n",
       "    <tr>\n",
       "      <th>Day of week_2</th>\n",
       "      <td>0.000239</td>\n",
       "    </tr>\n",
       "    <tr>\n",
       "      <th>Month_9</th>\n",
       "      <td>0.000224</td>\n",
       "    </tr>\n",
       "    <tr>\n",
       "      <th>n</th>\n",
       "      <td>0.000177</td>\n",
       "    </tr>\n",
       "    <tr>\n",
       "      <th>Day_26</th>\n",
       "      <td>0.000157</td>\n",
       "    </tr>\n",
       "    <tr>\n",
       "      <th>Month_8</th>\n",
       "      <td>0.000153</td>\n",
       "    </tr>\n",
       "    <tr>\n",
       "      <th>Day of week_4</th>\n",
       "      <td>0.000139</td>\n",
       "    </tr>\n",
       "    <tr>\n",
       "      <th>Month_7</th>\n",
       "      <td>0.000129</td>\n",
       "    </tr>\n",
       "    <tr>\n",
       "      <th>Day of week_0</th>\n",
       "      <td>0.000088</td>\n",
       "    </tr>\n",
       "    <tr>\n",
       "      <th>Day_7</th>\n",
       "      <td>0.000082</td>\n",
       "    </tr>\n",
       "    <tr>\n",
       "      <th>k</th>\n",
       "      <td>0.000080</td>\n",
       "    </tr>\n",
       "    <tr>\n",
       "      <th>Day_11</th>\n",
       "      <td>0.000059</td>\n",
       "    </tr>\n",
       "    <tr>\n",
       "      <th>Month_12</th>\n",
       "      <td>0.000043</td>\n",
       "    </tr>\n",
       "    <tr>\n",
       "      <th>Word category_NN</th>\n",
       "      <td>0.000025</td>\n",
       "    </tr>\n",
       "    <tr>\n",
       "      <th>Day_16</th>\n",
       "      <td>0.000022</td>\n",
       "    </tr>\n",
       "    <tr>\n",
       "      <th>Day_22</th>\n",
       "      <td>0.000009</td>\n",
       "    </tr>\n",
       "    <tr>\n",
       "      <th>Month_2</th>\n",
       "      <td>0.000007</td>\n",
       "    </tr>\n",
       "    <tr>\n",
       "      <th>Day_15</th>\n",
       "      <td>0.000006</td>\n",
       "    </tr>\n",
       "    <tr>\n",
       "      <th>Day_29</th>\n",
       "      <td>0.000004</td>\n",
       "    </tr>\n",
       "    <tr>\n",
       "      <th>Day_23</th>\n",
       "      <td>0.000004</td>\n",
       "    </tr>\n",
       "    <tr>\n",
       "      <th>Word category_RB</th>\n",
       "      <td>0.000003</td>\n",
       "    </tr>\n",
       "    <tr>\n",
       "      <th>Day_1</th>\n",
       "      <td>0.000002</td>\n",
       "    </tr>\n",
       "    <tr>\n",
       "      <th>Word category_VBN</th>\n",
       "      <td>0.000000</td>\n",
       "    </tr>\n",
       "    <tr>\n",
       "      <th>Word category_JJR</th>\n",
       "      <td>0.000000</td>\n",
       "    </tr>\n",
       "    <tr>\n",
       "      <th>j</th>\n",
       "      <td>0.000000</td>\n",
       "    </tr>\n",
       "    <tr>\n",
       "      <th>Word category_DT</th>\n",
       "      <td>0.000000</td>\n",
       "    </tr>\n",
       "    <tr>\n",
       "      <th>Day_8</th>\n",
       "      <td>0.000000</td>\n",
       "    </tr>\n",
       "    <tr>\n",
       "      <th>Word category_VBG</th>\n",
       "      <td>0.000000</td>\n",
       "    </tr>\n",
       "    <tr>\n",
       "      <th>Word category_NNS</th>\n",
       "      <td>0.000000</td>\n",
       "    </tr>\n",
       "    <tr>\n",
       "      <th>Word category_VB</th>\n",
       "      <td>0.000000</td>\n",
       "    </tr>\n",
       "    <tr>\n",
       "      <th>Year</th>\n",
       "      <td>0.000000</td>\n",
       "    </tr>\n",
       "    <tr>\n",
       "      <th>Word category_PRP$</th>\n",
       "      <td>0.000000</td>\n",
       "    </tr>\n",
       "    <tr>\n",
       "      <th>q</th>\n",
       "      <td>0.000000</td>\n",
       "    </tr>\n",
       "  </tbody>\n",
       "</table>\n",
       "</div>"
      ],
      "text/plain": [
       "                              Importance\n",
       "Day_24                          0.251910\n",
       "Dale_Chall_Readability_Score    0.136836\n",
       "Letter repetition               0.050210\n",
       "Month_1                         0.047926\n",
       "Flesch_Reading_Ease             0.038757\n",
       "i                               0.030387\n",
       "m                               0.030003\n",
       "Day of week_5                   0.026625\n",
       "Day_5                           0.023206\n",
       "Month_10                        0.022615\n",
       "Number of reported results      0.022423\n",
       "Scrabble score                  0.021408\n",
       "Words 1 away                    0.020612\n",
       "Words 2 away                    0.019607\n",
       "Day_30                          0.017240\n",
       "Vowel consonant ratio           0.016316\n",
       "s                               0.016223\n",
       "g                               0.015513\n",
       "Day_14                          0.012832\n",
       "Day_19                          0.012798\n",
       "Number in hard mode             0.011785\n",
       "d                               0.011669\n",
       "Month_6                         0.009822\n",
       "t                               0.009576\n",
       "Day_31                          0.009312\n",
       "Day_10                          0.008113\n",
       "Frequency score                 0.006923\n",
       "Day_3                           0.006709\n",
       "Day_20                          0.006574\n",
       "Word category_JJ                0.006453\n",
       "Day_9                           0.005642\n",
       "y                               0.005046\n",
       "h                               0.004698\n",
       "Difficult_Words                 0.004633\n",
       "Month_11                        0.004569\n",
       "e                               0.004536\n",
       "Day of week_1                   0.004464\n",
       "f                               0.004426\n",
       "Day_6                           0.004020\n",
       "l                               0.003730\n",
       "Day_25                          0.003027\n",
       "w                               0.003014\n",
       "Month_3                         0.002426\n",
       "a                               0.002060\n",
       "Day_4                           0.001987\n",
       "Month_4                         0.001939\n",
       "Common bigrams                  0.001882\n",
       "v                               0.001503\n",
       "Day of week_6                   0.001413\n",
       "r                               0.001297\n",
       "b                               0.001041\n",
       "z                               0.001004\n",
       "Day_28                          0.000991\n",
       "Day_13                          0.000967\n",
       "c                               0.000950\n",
       "o                               0.000823\n",
       "Day_17                          0.000709\n",
       "Day_2                           0.000696\n",
       "Month_5                         0.000665\n",
       "Day of week_3                   0.000617\n",
       "u                               0.000566\n",
       "p                               0.000527\n",
       "Day_12                          0.000500\n",
       "Day_18                          0.000373\n",
       "Word category_MD                0.000358\n",
       "Day_21                          0.000317\n",
       "Day_27                          0.000301\n",
       "x                               0.000248\n",
       "Day of week_2                   0.000239\n",
       "Month_9                         0.000224\n",
       "n                               0.000177\n",
       "Day_26                          0.000157\n",
       "Month_8                         0.000153\n",
       "Day of week_4                   0.000139\n",
       "Month_7                         0.000129\n",
       "Day of week_0                   0.000088\n",
       "Day_7                           0.000082\n",
       "k                               0.000080\n",
       "Day_11                          0.000059\n",
       "Month_12                        0.000043\n",
       "Word category_NN                0.000025\n",
       "Day_16                          0.000022\n",
       "Day_22                          0.000009\n",
       "Month_2                         0.000007\n",
       "Day_15                          0.000006\n",
       "Day_29                          0.000004\n",
       "Day_23                          0.000004\n",
       "Word category_RB                0.000003\n",
       "Day_1                           0.000002\n",
       "Word category_VBN               0.000000\n",
       "Word category_JJR               0.000000\n",
       "j                               0.000000\n",
       "Word category_DT                0.000000\n",
       "Day_8                           0.000000\n",
       "Word category_VBG               0.000000\n",
       "Word category_NNS               0.000000\n",
       "Word category_VB                0.000000\n",
       "Year                            0.000000\n",
       "Word category_PRP$              0.000000\n",
       "q                               0.000000"
      ]
     },
     "execution_count": 36,
     "metadata": {},
     "output_type": "execute_result"
    }
   ],
   "source": [
    "# Show the model feature importances\n",
    "importances = multi_output_model.estimators_[0].feature_importances_\n",
    "importances_df = pd.DataFrame(importances, index=X.columns, columns=['Importance'])\n",
    "importances_df = importances_df.sort_values('Importance', ascending=False)\n",
    "\n",
    "pd.options.display.max_rows = 100\n",
    "\n",
    "importances_df"
   ]
  },
  {
   "cell_type": "markdown",
   "metadata": {},
   "source": [
    "### Graph time"
   ]
  },
  {
   "cell_type": "markdown",
   "metadata": {},
   "source": [
    "#### Predict for Eerie"
   ]
  },
  {
   "cell_type": "code",
   "execution_count": 37,
   "metadata": {},
   "outputs": [
    {
     "name": "stdout",
     "output_type": "stream",
     "text": [
      "[[ 1.0345639  7.320564  19.515886  31.594213  30.105438  11.97198\n",
      "   1.7193652]]\n",
      "103.26201\n"
     ]
    }
   ],
   "source": [
    "eerie_df = pd.DataFrame({\n",
    "  'Date': '2023-03-01',\n",
    "  'Number of reported results': 219989,\n",
    "  'Number in hard mode': 9757.176,\n",
    "  'Word': 'EERIE'\n",
    "}, index=[0])\n",
    "\n",
    "eerie_df = create_features(eerie_df)\n",
    "eerie_df = encode_date(eerie_df)\n",
    "eerie_df = eerie_df.drop(columns=['Word'], axis=1)\n",
    "\n",
    "eerie_df = eerie_df.reindex(columns=feature_columns, fill_value=0)\n",
    "\n",
    "output = multi_output_model.predict(eerie_df)\n",
    "print(output)\n",
    "print(output.sum())"
   ]
  }
 ],
 "metadata": {
  "kernelspec": {
   "display_name": "Python 3",
   "language": "python",
   "name": "python3"
  },
  "language_info": {
   "codemirror_mode": {
    "name": "ipython",
    "version": 3
   },
   "file_extension": ".py",
   "mimetype": "text/x-python",
   "name": "python",
   "nbconvert_exporter": "python",
   "pygments_lexer": "ipython3",
   "version": "3.12.1"
  }
 },
 "nbformat": 4,
 "nbformat_minor": 2
}
